{
 "cells": [
  {
   "cell_type": "markdown",
   "metadata": {},
   "source": [
    "# Write-up for AceBear Security Contest 2019\n",
    "## (Crypto challenge) _F37^37_\n",
    "\n",
    "### Challenge summary\n",
    "1.  _How `myhash` works ?_\n",
    "    ![myhash.png](resource/myhash.png) \n",
    "    -   In short: $myhash(m) = \\sum{i*f(m_i)}$.\n",
    "\n",
    "2.  _What about `f` ?_\n",
    "    ![f.png](resource/f.png)\n",
    "    -   Given any $v_i \\in F_{37}^{37}$ (except the zero vector), it's hard to find $m_i$ such that: $f(m_i) = v_i$.\n",
    "\n",
    "3.  _And the challenge ?_\n",
    "    ![challenge.png](resource/challenge.png)\n",
    "    -   We need an efficient algorithm to calculate an input $m$ (unlimited size), given any $v \\in F_{37}^{37}$, such that $myhash(m) = v$.\n",
    "    \n",
    "Challenge files: [f3737.py](resource/f3737.py)."
   ]
  },
  {
   "cell_type": "markdown",
   "metadata": {},
   "source": [
    "### Suggested solution\n",
    "In order to make it easy to visualize things, let's assume that we're working on $F_3^3$ instead of $F_{37}^{37}$.\n",
    "\n",
    "1.  Find $\\{m_0, m_1, m_2\\}$ such that $\\{f(m_0), f(m_1), f(m_2)\\}$ forms a basis of $F_3^3$:\n",
    "    ![basis.png](resource/basis.png)\n",
    "\n",
    "2.  Express the target hash value as a linear combination of those vectors in the basis. For example:\n",
    "    ![basis.png](resource/linear_combination.png)\n",
    "\n",
    "3.  Place corresponding textblocks ($m_i$'s) in approriate positions to construct the input $m$ desired:\n",
    "\n",
    "| i   | i mod 3 | textblock          |\n",
    "| --- | ------- | ------------------ |\n",
    "| 0   | 0       | `EVALUATE_TO_ZERO` |\n",
    "| 1   | 1       | `aaaaaaaaaaaaaaaa` |\n",
    "| 2   | 2       | `bbbbbbbbbbbbbbbb` |\n",
    "| 3   | 0       | `EVALUATE_TO_ZERO` |\n",
    "| 4   | 1       | `EVALUATE_TO_ZERO` |\n",
    "| 5   | 2       | `cccccccccccccccc` |\n",
    "\n",
    "Finally, $m$ = `EVALUATE_TO_ZEROaaaaaaaaaaaaaaaabbbbbbbbbbbbbbbbEVALUATE_TO_ZEROEVALUATE_TO_ZEROcccccccccccccccc` would meet our need."
   ]
  }
 ],
 "metadata": {
  "kernelspec": {
   "display_name": "SageMath 8.3",
   "language": "python",
   "name": "sagemath"
  },
  "language_info": {
   "codemirror_mode": {
    "name": "ipython",
    "version": 2
   },
   "file_extension": ".py",
   "mimetype": "text/x-python",
   "name": "python",
   "nbconvert_exporter": "python",
   "pygments_lexer": "ipython2",
   "version": "2.7.15+"
  }
 },
 "nbformat": 4,
 "nbformat_minor": 2
}
