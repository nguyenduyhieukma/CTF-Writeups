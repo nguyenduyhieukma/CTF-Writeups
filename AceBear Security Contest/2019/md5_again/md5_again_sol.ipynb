{
 "cells": [
  {
   "cell_type": "markdown",
   "metadata": {},
   "source": [
    "# Write-up for AceBear Security Contest 2019\n",
    "## (Crypto challenge) _MD5 again?_\n",
    "\n",
    "### Challenge summary\n",
    "An improper implementation of MD5 was given and contestants were asked to reverse its state transition algorithm in order to forge arbitrary secret-prefix MACs without knowing the chunksize-long secret key.\n",
    "\n",
    "Challenge files: [md5_again.py](resource/md5_again.py).\n",
    "\n",
    "### Suggested solution\n",
    "Based on the pseudocode given at [MD5 wikipedia page](https://en.wikipedia.org/wiki/MD5#Pseudocode), the missing part in the provided implementation in the challenge is:\n",
    "\n",
    "```\n",
    "    //Add this chunk's hash to result so far:\n",
    "    a0 := a0 + A\n",
    "    b0 := b0 + B\n",
    "    c0 := c0 + C\n",
    "    d0 := d0 + D\n",
    "```\n",
    "\n",
    "Therefore, the state transition is about to simply apply the main MD5 operation 64 times. The figure below describes one MD5 operation. Reversing it is not a hard task.\n",
    "\n",
    "![the MD5 operation](https://upload.wikimedia.org/wikipedia/commons/thumb/a/a5/MD5_algorithm.svg/300px-MD5_algorithm.svg.png)\n",
    "\n",
    "### P.S.\n",
    "A small change to a standard cryptography algorithm/protocol may cause you a lot of trouble."
   ]
  }
 ],
 "metadata": {
  "kernelspec": {
   "display_name": "SageMath 8.3",
   "language": "python",
   "name": "sagemath"
  },
  "language_info": {
   "codemirror_mode": {
    "name": "ipython",
    "version": 2
   },
   "file_extension": ".py",
   "mimetype": "text/x-python",
   "name": "python",
   "nbconvert_exporter": "python",
   "pygments_lexer": "ipython2",
   "version": "2.7.15+"
  }
 },
 "nbformat": 4,
 "nbformat_minor": 2
}
