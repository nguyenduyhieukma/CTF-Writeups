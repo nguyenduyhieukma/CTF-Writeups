{
 "cells": [
  {
   "cell_type": "markdown",
   "metadata": {},
   "source": [
    "# Write-up for AceBear Security Contest 2019\n",
    "## (Crypto challenge) _babyRSA_\n",
    "\n",
    "### Challenge summary\n",
    "Find $p$, $q$ given $n = pq$, $a = (p + q)^{2019}$ mod $n$ and $b = (p + 2019)^q$ mod $n$.\n",
    "\n",
    "Challenge files: [rsa.py](resource/rsa.py).\n",
    "\n",
    "### Suggested solution\n",
    "Notice that $a \\equiv p^{2019}$ (mod $q$) and $b \\equiv p + 2019$ (mod $q$), we conclude that $a \\equiv (b - 2019)^{2019} \\equiv ((b - 2019)^{2019} $mod $n$) (mod $q$). Then $m = a - ((b - 2019)^{2019} $mod $n$) should be a multiple of $q$ and $GCD(m, n)$ should give us $q$.\n",
    "\n",
    "### P.S.\n",
    "I feel sorry for contestants who had spent more than 24 hours trying to complicate the problem and became frustrated. Please make your Number theory background stronger."
   ]
  }
 ],
 "metadata": {
  "kernelspec": {
   "display_name": "SageMath 8.3",
   "language": "python",
   "name": "sagemath"
  },
  "language_info": {
   "codemirror_mode": {
    "name": "ipython",
    "version": 2
   },
   "file_extension": ".py",
   "mimetype": "text/x-python",
   "name": "python",
   "nbconvert_exporter": "python",
   "pygments_lexer": "ipython2",
   "version": "2.7.15+"
  }
 },
 "nbformat": 4,
 "nbformat_minor": 2
}
