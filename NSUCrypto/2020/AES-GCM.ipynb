{
 "cells": [
  {
   "cell_type": "markdown",
   "metadata": {},
   "source": [
    "# A solution for NSUCRYPTO 2020\n",
    "- Problem 10: _AES-GCM_\n",
    "- By: _ndh_"
   ]
  },
  {
   "cell_type": "markdown",
   "metadata": {},
   "source": [
    "**_Answer for Q1_**:\n",
    "\n",
    "The most common mistake is nonce/IV reuse. Let's check for it:"
   ]
  },
  {
   "cell_type": "code",
   "execution_count": 1,
   "metadata": {},
   "outputs": [
    {
     "name": "stdout",
     "output_type": "stream",
     "text": [
      "0 29 b'\\x96>\\xa6\\x16\\xe2\\xae\\xaf>\\x9bg^\\xcf'\n",
      "1 18 b'\\xeb\\x92U\\x007\\x17\\xc7\\xdc\\xea\\x8d\\xd8\\x05'\n",
      "2 25 b'\\xc5\\xe8\\x0e\\xe2\\x15\\x1b\\xaf\\xaf\\xda\\x16GZ'\n",
      "3 17 b'\\x14anl\\xed\\xda\\x18\\xbe\\xef\\xcc\\xdd\\x82'\n",
      "4 27 b'\\xfa\\x1a\\xdft\\xf5\\xf4\\x8c\\x01\\x88x!\\xe3'\n",
      "5 20 b'\\x96>\\xa6\\x16\\xe2\\xae\\xaf>\\x9bg^\\xcf'\n",
      "6 46 b'\\x96>\\xa6\\x16\\xe2\\xae\\xaf>\\x9bg^\\xcf'\n",
      "7 20 b'\\xc5\\xe8\\x0e\\xe2\\x15\\x1b\\xaf\\xaf\\xda\\x16GZ'\n"
     ]
    }
   ],
   "source": [
    "from collections import namedtuple\n",
    "\n",
    "Ciphertext = namedtuple(\"Ciphertext\", (\"iv\", \"payload\"))\n",
    "ciphertexts = []\n",
    "for i in range(8):\n",
    "    with open(f\"AES-GCM-Task_1/{i}.message\", \"rb\") as f:\n",
    "        content = f.read()\n",
    "    ciphertexts.append(Ciphertext(\n",
    "        iv=content[8:20], payload=content[20:-16]))\n",
    "    \n",
    "for i in range(8):\n",
    "    print(i, len(ciphertexts[i].payload), ciphertexts[i].iv)"
   ]
  },
  {
   "cell_type": "markdown",
   "metadata": {},
   "source": [
    "As we can see, the messages at indices 0, 5 and 6 have been encrypted using the same IV. Since the corresponding plaintext for message 0 is known, we can XOR it with the encrypted payload to obtain the keystream, then use the keystream to decrypt upto first 29 bytes (the length of the first message) of the other two messages:"
   ]
  },
  {
   "cell_type": "code",
   "execution_count": 2,
   "metadata": {},
   "outputs": [
    {
     "name": "stdout",
     "output_type": "stream",
     "text": [
      "b'Lincoln Park, 10:15.'\n",
      "b'Nostalgia is a eternal motif '\n"
     ]
    }
   ],
   "source": [
    "def xor(s1, s2):\n",
    "    return bytes(c1 ^ c2 for c1, c2 in zip(s1, s2))\n",
    "\n",
    "keystream = xor(b\"Hello, Bob! How's everything?\", ciphertexts[0].payload)\n",
    "print(xor(keystream, ciphertexts[5].payload))\n",
    "print(xor(keystream, ciphertexts[6].payload))"
   ]
  },
  {
   "cell_type": "markdown",
   "metadata": {},
   "source": [
    "**_Answer for Q2_**:\n",
    "\n",
    "Again, let's check for nonce/IV reuse:"
   ]
  },
  {
   "cell_type": "code",
   "execution_count": 3,
   "metadata": {},
   "outputs": [
    {
     "name": "stdout",
     "output_type": "stream",
     "text": [
      "0 116 b'\\x8f$\\x12t?\\x9bnst\\xa5\\xa0\\x13'\n",
      "1 260 b'J\\xecw\\xd7\\x18E6R\\x0eN K'\n",
      "2 106 b'>\\xd1\\xeb<\\xf9\\xf3,)\\xcc\\xbff\\xcc'\n",
      "3  35 b'\\x83\\x0f\\xaa\\x00\\x91Q\\xef\\x1fP}\\x1f\\xf0'\n",
      "4  92 b'\\xa5\\xc0\\xb1,t\\xe9QL7*`}'\n",
      "5  26 b'b3\\xde!v\\xdeOU(&*\\xfc'\n",
      "6  71 b'J\\xecw\\xd7\\x18E6R\\x0eN K'\n",
      "7  61 b'\\xdb\\x03\\xb0\\rk\\xedo\\xa1\\x8f\\x12\\x14L'\n"
     ]
    }
   ],
   "source": [
    "Ciphertext_v2 = namedtuple(\"Ciphertext\", (\"iv\", \"aad\", \"payload\", \"tag\"))\n",
    "ciphertexts = []\n",
    "for i in range(8):\n",
    "    with open(f\"AES-GCM-Task_2/{i}.message\", \"rb\") as f:\n",
    "        content = f.read()\n",
    "    ciphertexts.append(Ciphertext_v2(\n",
    "        iv=content[8:20], aad=content[:20],\n",
    "        payload=content[20:-16], tag=content[-16:]))\n",
    "\n",
    "for i in range(8):\n",
    "    print(\"%d %3d %s\" % (i, len(ciphertexts[i].payload), ciphertexts[i].iv))"
   ]
  },
  {
   "cell_type": "markdown",
   "metadata": {},
   "source": [
    "As we can see, the IV for message 1 and message 6 are the same. So, we have a chance to recover the key-dependent value $H$ and $E_K(\\text{Counter 0})$ corresponding to that IV, and therefore, be able to forge the authentication tag for arbitrary ciphertext and additional authenticated data of our choice (for that IV). Let's implement the attack."
   ]
  },
  {
   "cell_type": "markdown",
   "metadata": {},
   "source": [
    "Firstly, let's define some utilities that convert back and forth between a block of data and an element of $\\mathbb{F}_{128}$:"
   ]
  },
  {
   "cell_type": "code",
   "execution_count": 4,
   "metadata": {},
   "outputs": [],
   "source": [
    "from sage.all import GF  # https://www.sagemath.org/\n",
    "from bitarray import bitarray  # https://pypi.org/project/bitarray/\n",
    "\n",
    "# the finite field of 2**128 elements\n",
    "F128 = GF(2**128, name='t', modulus=[1, 1, 1, 0, 0, 0, 0, 1] + [0] * 120 + [1])\n",
    "\n",
    "\n",
    "def block_to_fe(b):\n",
    "    \"\"\"Convert a block (<= 16 byte) to an element of F128.\"\"\"\n",
    "    ba = bitarray()\n",
    "    ba.frombytes(b)\n",
    "    return F128(list(ba))\n",
    "\n",
    "\n",
    "def fe_to_block(e):\n",
    "    \"\"\"Convert an element of F128 to a 16-byte block.\"\"\"\n",
    "    b = bitarray(list(e.polynomial())).tobytes()\n",
    "    b = b.ljust(16, b'\\x00')\n",
    "    return b"
   ]
  },
  {
   "cell_type": "markdown",
   "metadata": {},
   "source": [
    "Here's the most important function needed for the attack:"
   ]
  },
  {
   "cell_type": "code",
   "execution_count": 5,
   "metadata": {},
   "outputs": [],
   "source": [
    "from sage.all import PolynomialRing\n",
    "\n",
    "# the polynomial ring over F128\n",
    "PR = PolynomialRing(F128, names=\"x, y\")\n",
    "\n",
    "\n",
    "def get_poly(aad, ct, tag):\n",
    "    \"\"\"Given some additional authenticated data `aad`, a ciphertext `ct` and\n",
    "    a valid authentication tag `tag`, return a polynomial f(X, Y) over F128 \n",
    "    such that f(H, E(Counter_0)) = 0.\"\"\"\n",
    "    coeffs = [block_to_fe(aad[i: i + 16]) for i in range(0, len(aad), 16)]\n",
    "    coeffs += [block_to_fe(ct[i: i + 16]) for i in range(0, len(ct), 16)]\n",
    "    coeffs.append(block_to_fe(\n",
    "        (len(aad) * 8 * 2**64 + len(ct) * 8).to_bytes(16, \"big\")))\n",
    "\n",
    "    x, y = PR.gens()\n",
    "    f = sum(c * x**i for i, c in enumerate(coeffs[::-1]))\n",
    "    return x * f + y - block_to_fe(tag)"
   ]
  },
  {
   "cell_type": "markdown",
   "metadata": {},
   "source": [
    "Let's obtain the polynomials for message 1 and message 6:"
   ]
  },
  {
   "cell_type": "code",
   "execution_count": 6,
   "metadata": {},
   "outputs": [],
   "source": [
    "f1 = get_poly(ciphertexts[1].aad, ciphertexts[1].payload, ciphertexts[1].tag)\n",
    "f6 = get_poly(ciphertexts[6].aad, ciphertexts[6].payload, ciphertexts[6].tag)"
   ]
  },
  {
   "cell_type": "markdown",
   "metadata": {},
   "source": [
    "Subtracting one polynomial from another will eliminate `y`, then taking the roots of the result polynomial will give us a list of possible values for $H$:\n"
   ]
  },
  {
   "cell_type": "code",
   "execution_count": 7,
   "metadata": {},
   "outputs": [
    {
     "name": "stdout",
     "output_type": "stream",
     "text": [
      "1\n"
     ]
    }
   ],
   "source": [
    "H_cands = (f1 - f6).univariate_polynomial().roots()\n",
    "print(len(H_cands))"
   ]
  },
  {
   "cell_type": "markdown",
   "metadata": {},
   "source": [
    "Luckily, we only have one candidate for $H$, so $H$ must be that value. With $H$, computing $E_K(\\text{Counter 0})$ is straight-forward:"
   ]
  },
  {
   "cell_type": "code",
   "execution_count": 8,
   "metadata": {},
   "outputs": [],
   "source": [
    "H, _ = H_cands[0]\n",
    "EC0, _ = f1.subs(x=H).univariate_polynomial().roots()[0]"
   ]
  },
  {
   "cell_type": "markdown",
   "metadata": {},
   "source": [
    "Now, we can forge a valid authentication tag for arbitrary `aad` and `ct` of our choice, as long as the IV stays the same. In our situation, we can modify the 8-byte header and change the encrypted payload of message 1 (or 6). For example:"
   ]
  },
  {
   "cell_type": "code",
   "execution_count": 9,
   "metadata": {},
   "outputs": [
    {
     "name": "stdout",
     "output_type": "stream",
     "text": [
      "b\"\\x00\\x00\\x00\\x00\\x00\\x00\\x00\\x00J\\xecw\\xd7\\x18E6R\\x0eN K Hey! Don't use the same IV twice! \\xa6:\\xb6\\x94v\\xe7\\xc5\\x1e\\x7f0\\x17\\x81\\xfa\\xe1\\xe4p\"\n"
     ]
    }
   ],
   "source": [
    "iv = ciphertexts[1].iv\n",
    "new_payload = b\" Hey! Don't use the same IV twice! \"\n",
    "new_header = b\"\\x00\" * 8\n",
    "new_aad = new_header + iv\n",
    "f = get_poly(new_aad, new_payload, b'')\n",
    "new_tag = fe_to_block(F128(f.subs(x=H, y=EC0)))\n",
    "new_ciphertext = new_header + iv + new_payload + new_tag\n",
    "print(new_ciphertext)"
   ]
  },
  {
   "cell_type": "markdown",
   "metadata": {},
   "source": [
    "However, the plaintext corresponding to the new payload is not under our control."
   ]
  },
  {
   "cell_type": "markdown",
   "metadata": {},
   "source": [
    "**_Answer for Q3_**:\n",
    "\n",
    "What the new scheme does is that it introduces a new indeterminate to our polynomials: the unknown last 8 bytes of `aad` named $X$. So, we just need more cases of IV reuse to recover them all. Again, let's check for IV reuse:"
   ]
  },
  {
   "cell_type": "code",
   "execution_count": 10,
   "metadata": {},
   "outputs": [
    {
     "name": "stdout",
     "output_type": "stream",
     "text": [
      "0 438 b'\\x97\\x80/\\xbd|\\xf3K\\xe1\\r\\x8e\\x91\\x19'\n",
      "1 320 b'\\xfeM\\xeb\\x8b\\x8e\\x82\\x12\\xa0\\x0b\\xdd\\xd1\\xec'\n",
      "2 431 b'\\xc9\\x11\\xe5\\xdd!\\x89q\\xd6Y\\xb0\\x1a\\xc3'\n",
      "3 320 b'\\xfeM\\xeb\\x8b\\x8e\\x82\\x12\\xa0\\x0b\\xdd\\xd1\\xec'\n",
      "4 108 b'\\xc9\\x11\\xe5\\xdd!\\x89q\\xd6Y\\xb0\\x1a\\xc3'\n",
      "5 207 b'\\x85\\xe4\\xcd\\xd7\\xf7\\xd2\\xd2\\xadi\\xb5q\\xc1'\n",
      "6 970 b'>\\xe3\\x11\\x94\\xe8 \\xb4\\x11=\\xe9\\x9e}'\n",
      "7 320 b'\\xfeM\\xeb\\x8b\\x8e\\x82\\x12\\xa0\\x0b\\xdd\\xd1\\xec'\n"
     ]
    }
   ],
   "source": [
    "Ciphertext_v3 = namedtuple(\"Ciphertext\", (\"iv\", \"partial_aad\", \"payload\", \"tag\"))\n",
    "ciphertexts = []\n",
    "for i in range(8):\n",
    "    with open(f\"AES-GCM-Task_3/{i}.message\", \"rb\") as f:\n",
    "        content = f.read()\n",
    "    ciphertexts.append(Ciphertext_v3(\n",
    "        iv=content[8:20], partial_aad=content[:20],\n",
    "        payload=content[20:-16], tag=content[-16:]))\n",
    "\n",
    "for i in range(8):\n",
    "    print(i, len(ciphertexts[i].payload), ciphertexts[i].iv)"
   ]
  },
  {
   "cell_type": "markdown",
   "metadata": {},
   "source": [
    "As we can see, messages 1, 3, and 7 have the same IV. So do messages 2, 4. Let's make a new version for `get_poly`:"
   ]
  },
  {
   "cell_type": "code",
   "execution_count": 11,
   "metadata": {},
   "outputs": [],
   "source": [
    "# add a new indeterminate `z` which represents X\n",
    "PR_v2 = PolynomialRing(F128, names=\"x, y, z\")\n",
    "\n",
    "def get_poly_v2(partial_aad, n, ct, tag):\n",
    "    \"\"\"Given some partial additional authenticated data `partial_aad`, the size\n",
    "    `n` of the unknown additional authenticated data ending part X, a \n",
    "    ciphertext `ct` and a valid authentication tag `tag`, return a polynomial\n",
    "    f(x, y, z) over F128 such that f(H, E(Counter_0), X) = 0.\"\"\"\n",
    "    # only support X inside 1 block\n",
    "    r = len(partial_aad) % 16\n",
    "    assert n > 0 and r + n <= 16\n",
    "    \n",
    "    t = F128.gen()\n",
    "    x, y, z = PR_v2.gens()\n",
    "    coeffs = [block_to_fe(partial_aad[i: i + 16]) \n",
    "              for i in range(0, len(partial_aad), 16)]\n",
    "    if r == 0:  # X lying at the beginning of a new block\n",
    "        coeffs.append(z)\n",
    "    else:  # X lying in the last block\n",
    "        coeffs[-1] += t**(8 * r)*z\n",
    "    coeffs += [block_to_fe(ct[i: i + 16]) for i in range(0, len(ct), 16)]\n",
    "    coeffs.append(block_to_fe(\n",
    "        ((len(partial_aad) + n) * 8 * 2**64 + len(ct) * 8).to_bytes(16, \"big\")\n",
    "    ))\n",
    "\n",
    "    f = sum(c * x**i for i, c in enumerate(coeffs[::-1]))\n",
    "    return x * f + y - block_to_fe(tag)"
   ]
  },
  {
   "cell_type": "markdown",
   "metadata": {},
   "source": [
    "Now, let's obtain the polynomials for the involved messages:"
   ]
  },
  {
   "cell_type": "code",
   "execution_count": 12,
   "metadata": {},
   "outputs": [],
   "source": [
    "f1 = get_poly_v2(ciphertexts[1].partial_aad, 8, ciphertexts[1].payload, ciphertexts[1].tag)\n",
    "f3 = get_poly_v2(ciphertexts[3].partial_aad, 8, ciphertexts[3].payload, ciphertexts[3].tag)\n",
    "f7 = get_poly_v2(ciphertexts[7].partial_aad, 8, ciphertexts[7].payload, ciphertexts[7].tag)\n",
    "\n",
    "f2 = get_poly_v2(ciphertexts[2].partial_aad, 8, ciphertexts[2].payload, ciphertexts[2].tag)\n",
    "f4 = get_poly_v2(ciphertexts[4].partial_aad, 8, ciphertexts[4].payload, ciphertexts[4].tag)"
   ]
  },
  {
   "cell_type": "markdown",
   "metadata": {},
   "source": [
    "Since messages 1, 3 and 7 have the same payload size, subtract one polynomial in the set $\\{f_1, f_3, f_7\\}$ from another will eliminate both `y` and `z` at the same time. Hence, we have 2 polynomials having the same root `x = H`. As a result, $H$ is likely to be uniquely determined (without luck) this time:"
   ]
  },
  {
   "cell_type": "code",
   "execution_count": 13,
   "metadata": {},
   "outputs": [],
   "source": [
    "H_cands = (f1 - f3).gcd(f1 - f7).univariate_polynomial().roots()\n",
    "assert len(H_cands) == 1\n",
    "H, _ = H_cands[0]"
   ]
  },
  {
   "cell_type": "markdown",
   "metadata": {},
   "source": [
    "From now on, we can modify the headers and the encrypted payloads of messages 1, 3, and 7, but the payload size (in term of 16-byte blocks) can not be changed! To change the size to arbitrary value we want, $X$ and $E_K(\\text{Counter 0})$ must be also recovered."
   ]
  },
  {
   "cell_type": "markdown",
   "metadata": {},
   "source": [
    "Since the payloads of messages 2, 4 are quite different in size (431 vs 108), the two indeterminates `y` and `z` can be separated in this case. By reusing the value $H$ found above (note that $E_K(\\text{Counter 0})$ depends on both the key and the IV, while $H$ and $X$ only depends on the key), we are able to recover $X$ and $E_K(\\text{Counter 0})$:"
   ]
  },
  {
   "cell_type": "code",
   "execution_count": 14,
   "metadata": {},
   "outputs": [
    {
     "name": "stdout",
     "output_type": "stream",
     "text": [
      "t^63 + t^62 + t^61 + t^60 + t^58 + t^57 + t^55 + t^49 + t^47 + t^45 + t^44 + t^42 + t^41 + t^40 + t^39 + t^38 + t^37 + t^34 + t^32 + t^30 + t^29 + t^26 + t^25 + t^20 + t^18 + t^17 + t^16 + t^15 + t^13 + t^11 + t^9 + t^8 + t^7 + t^5 + t^4 + t^2 + t + 1\n"
     ]
    }
   ],
   "source": [
    "X, _ = (f2 - f4).subs(x=H).univariate_polynomial().roots()[0]\n",
    "print(X)"
   ]
  },
  {
   "cell_type": "markdown",
   "metadata": {},
   "source": [
    "As we can see, $X$ as polynomial over $\\mathbb{F}_2$ only has a degree of 63. This is expected since the size of $X$ as bytes is only 8. Now, let's recover the $E_K(\\text{Counter 0})$ for both the IV shared by messages 1, 3, 7 and the one shared by messages 2, 4:"
   ]
  },
  {
   "cell_type": "code",
   "execution_count": 15,
   "metadata": {},
   "outputs": [],
   "source": [
    "EC0_137, _ = f1.subs(x=H, z=X).univariate_polynomial().roots()[0]\n",
    "EC0_24, _ = f2.subs(x=H, z=X).univariate_polynomial().roots()[0]"
   ]
  },
  {
   "cell_type": "markdown",
   "metadata": {},
   "source": [
    "Now, we are able to forge a valid tag for arbitrary `aad` and `ct` of our choice, as long as `iv` be one of the two IVs that have been reused. For example:"
   ]
  },
  {
   "cell_type": "code",
   "execution_count": 16,
   "metadata": {},
   "outputs": [
    {
     "name": "stdout",
     "output_type": "stream",
     "text": [
      "b\"\\x00\\x00\\x00\\x00\\x00\\x00\\x00\\x00\\xfeM\\xeb\\x8b\\x8e\\x82\\x12\\xa0\\x0b\\xdd\\xd1\\xec Hey! Don't use the same IV twice! \\xc4\\xab|NI\\x19\\xe5\\xcc\\x8fTo@&\\xa3\\xe9V\"\n"
     ]
    }
   ],
   "source": [
    "iv_137 = ciphertexts[1].iv\n",
    "new_payload = b\" Hey! Don't use the same IV twice! \"\n",
    "new_header = b\"\\x00\" * 8\n",
    "new_partial_aad = new_header + iv_137\n",
    "f = get_poly_v2(new_partial_aad, 8, new_payload, b'')\n",
    "new_tag = fe_to_block(F128(f.subs(x=H, y=EC0_137, z=X)))\n",
    "new_ciphertext = new_header + iv_137 + new_payload + new_tag\n",
    "print(new_ciphertext)"
   ]
  }
 ],
 "metadata": {
  "kernelspec": {
   "display_name": "Python 3",
   "language": "python",
   "name": "python3"
  },
  "language_info": {
   "codemirror_mode": {
    "name": "ipython",
    "version": 3
   },
   "file_extension": ".py",
   "mimetype": "text/x-python",
   "name": "python",
   "nbconvert_exporter": "python",
   "pygments_lexer": "ipython3",
   "version": "3.7.8"
  }
 },
 "nbformat": 4,
 "nbformat_minor": 2
}
