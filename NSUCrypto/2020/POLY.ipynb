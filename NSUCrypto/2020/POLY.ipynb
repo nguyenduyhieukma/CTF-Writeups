{
 "cells": [
  {
   "cell_type": "markdown",
   "metadata": {},
   "source": [
    "# A solution for NSUCRYPTO 2020\n",
    "- Problem 1: _POLY_\n",
    "- By: _ndh_"
   ]
  },
  {
   "cell_type": "markdown",
   "metadata": {},
   "source": [
    "Let $c$ denote the constant term of $p(x)$. We can rewrite $p(x)$ as:\n",
    "\n",
    "$$p(x) = c + xq(x)$$\n",
    "\n",
    "In which $q(x)$ is another polynomial with integer coefficients."
   ]
  },
  {
   "cell_type": "markdown",
   "metadata": {
    "pycharm": {
     "name": "#%% md\n"
    }
   },
   "source": [
    "Substituting $x = 20$ and $x = 15$ into the above equation, we have $c + 20q(20) = 7$ and $c + 15q(15) = 5$, which lead to $c$ equals to both $2$ and $0$ $\\text{mod } 5$. This is a contradiction.\n",
    "\n",
    "Therefore, there's must be a mistake in the implementation of $p(x)$."
   ]
  }
 ],
 "metadata": {
  "kernelspec": {
   "display_name": "Python 3",
   "language": "python",
   "name": "python3"
  },
  "language_info": {
   "codemirror_mode": {
    "name": "ipython",
    "version": 3
   },
   "file_extension": ".py",
   "mimetype": "text/x-python",
   "name": "python",
   "nbconvert_exporter": "python",
   "pygments_lexer": "ipython3",
   "version": "3.7.8"
  }
 },
 "nbformat": 4,
 "nbformat_minor": 2
}
