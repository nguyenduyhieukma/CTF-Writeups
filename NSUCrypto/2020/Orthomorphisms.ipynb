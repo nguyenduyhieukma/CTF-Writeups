{
 "cells": [
  {
   "cell_type": "markdown",
   "metadata": {},
   "source": [
    "# A solution for NSUCRYPTO 2020\n",
    "- Problem 4: _Orthomorphisms_\n",
    "- By: _ndh_"
   ]
  },
  {
   "cell_type": "markdown",
   "metadata": {},
   "source": [
    "## The lemmas\n",
    "\n",
    "Firstly, let's prove the following lemmas:"
   ]
  },
  {
   "cell_type": "markdown",
   "metadata": {},
   "source": [
    "### Lemma 4.1\n",
    "> Consider the set $S = \\{i + Cj \\text{ mod } 2^k\\}$ in which $k \\ge 3$; $C \\in \\mathbb{Z}$ and $i, j \\in \\{0, 1, ..., 2^{k-1} - 1\\}$. If:\n",
    ">\n",
    "> 1) $\\;C = 0 \\text{ mod } 2^k$, then $S = \\{0, 1, ..., 2^{k-1} - 1\\}$\n",
    ">\n",
    "> 2) $\\;C = 1 \\text{ mod } 2^k$, then $S = \\mathbb{Z}_{2^k}  \\setminus \\{2^k - 1\\}$\n",
    ">\n",
    "> 3) $\\;C = -1 \\text{ mod } 2^k$, then $S = \\mathbb{Z}_{2^k} \\setminus \\{2^{k - 1}\\}$\n",
    ">\n",
    "> 4) $\\;$For other $C$, $S = \\mathbb{Z}_{2^k}$\n",
    ">\n",
    "> ($\\mathbb{Z}_{2^k}$ is the set of integers modulo $2^k$)\n"
   ]
  },
  {
   "cell_type": "markdown",
   "metadata": {},
   "source": [
    "_Proof_\n",
    "\n",
    "4.1.1, 4.1.2 and 4.1.3 can be easily verified:\n",
    "\n",
    "-   When $C = 0 \\text{ mod } 2^k$, $S = \\{i \\text { mod } 2^k\\} = \\{0, 1, ... 2^{k-1} - 1 \\;(\\text {all mod } 2^k)\\}$. This proves 4.1.1.\n",
    "\n",
    "-   When $C = 1 \\text{ mod } 2^k$, $S = \\{i + j \\text { mod } 2^k\\} = \\{0, 1, ..., 2^k-2 \\;(\\text {all mod } 2^k)\\}$. This proves 4.1.2.\n",
    "\n",
    "-   When $C = -1 \\text{ mod } 2^k$, $S = \\{i - j \\text { mod } 2^k\\} = \\{-(2^{k-1} - 1), -(2^{k-1} - 2), ..., 2^{k-1} - 1 \\;(\\text {all mod } 2^k)\\} $. This proves 4.1.3.\n",
    "\n",
    "When $C = 2, 3, ..., 2^{k-1} \\text{ mod } 2^k$, any element $a$ of $\\mathbb{Z}_{2^k}$ can be written as: $a = (a \\text{ mod } C) + \\left \\lfloor{\\frac{a}{C}}\\right \\rfloor C$. Since $0 \\le (a \\text{ mod } C) < C <= 2^{k-1}$ and $0 \\le \\left \\lfloor{\\frac{a}{C}}\\right \\rfloor <= \\left \\lfloor{\\frac{2^k - 1}{2}}\\right \\rfloor = 2^{k-1} - 1$, we conclude that $S = \\mathbb{Z}_{2^k}$.\n",
    "\n",
    "When $C = -2, -3, ..., -(2^{k-1}-1)$, notice that $\\{j\\} = \\{2^{k-1} - 1 - j\\}$, we have $S = \\{i + C(2^{k-1}-1-j) \\text{ mod } 2^k\\} = \\{i + (-C)j + C(2^{k-1}-1) \\text{ mod } 2^k\\}$. Since $2 <= -C <= 2^{k-1} - 1$, we also have $\\{i + (-C)j \\text{ mod } 2^k\\} = \\mathbb{Z}_{2^k}$ (proved above). As a result, $S = \\{t + C(2^{k-1}-1) \\text{ mod } 2^k, t \\in \\mathbb{Z}_{2^k}\\} = \\mathbb{Z}_{2^k}$. This completes the proof of Lemma 4.1."
   ]
  },
  {
   "cell_type": "markdown",
   "metadata": {},
   "source": [
    "### Lemma 4.2\n",
    "\n",
    "> Consider the set $S = \\{Ai + Bj \\text{ mod } 2^k\\}$ in which $k \\ge 3$; $A, B \\in \\mathbb{Z}$; $2 \\nmid A$ and $i, j \\in \\{0, 1, ..., 2^{k-1} - 1\\}$. If:\n",
    ">\n",
    "> 1)   $\\;B = A \\text{ mod } 2^k$, then $S = \\mathbb{Z}_{2^k} \\setminus \\{-A \\text{ mod } 2^k\\}$\n",
    ">\n",
    "> 2)   $\\;B = -A \\text{ mod } 2^k$, then $S = \\mathbb{Z}_{2^k} \\setminus \\{2^{k - 1}\\}$\n",
    ">\n",
    "> 3)   $\\;B \\ne \\pm A \\text{ mod } 2^k$ and $B \\ne 0 \\text{ mod } 2^k$, then $S = \\mathbb{Z}_{2^k}$"
   ]
  },
  {
   "cell_type": "markdown",
   "metadata": {},
   "source": [
    "_Proof_\n",
    "\n",
    "Since $A$ is odd, $A^{-1} \\text{ mod } 2^k$ exists. We write $S$ as: $S = \\{A(1 + A^{-1}Bj) \\text{ mod }  2^k\\}$. Observe that $\\{At \\text{ mod }2^k, t \\in Z_{2^k}\\} = Z_{2^k}$ (since multiplying by $A \\text{ mod } 2^k$ is invertible, and hence, onto), applying Lemma 4.1 to the set $ \\{1 + A^{-1}Bj \\text{ mod }  2^k\\}$ together with some modular arithmetic, Lemma 4.2 can be verified."
   ]
  },
  {
   "cell_type": "markdown",
   "metadata": {},
   "source": [
    "### Lemma 4.3\n",
    "\n",
    "> Consider the set $S = \\{Ai \\text{ mod } 2^k\\}$ in which $k \\ge 3$; $A \\in \\mathbb{Z}$; $2 \\mid A$; $4 \\nmid A$ and $i \\in \\{0, 1, ..., 2^{k-1} - 1\\}$. Then, $S = \\{0, 2, 4, ..., 2^k-2\\}$."
   ]
  },
  {
   "cell_type": "markdown",
   "metadata": {},
   "source": [
    "_Proof_\n",
    "\n",
    "Since $A$ is even, $S \\subset \\{0, 2, 4, ..., 2^k-2\\}$. (1)\n",
    "\n",
    "If $Ai_1 = Ai_2 \\text{ mod } 2^k$, then $2^k \\mid A(i_1 - i_2)$, which means $2^{k-1} \\mid (i_1 - i_2)$ since $A$ is even but not divisible by $4$. However, $|i_1 - i_2| < 2^{k-1}$. Therefore, $i_1 - i_2 = 0$ and the map $i \\mapsto Ai \\text{ mod } 2^k$ is one-to-one. We conclude that $|S| = |\\{0, 1, ..., 2^{k-1} - 1\\}| = 2^{k-1}$. (2)\n",
    "\n",
    "Also, $|\\{0, 2, 4, ..., 2^k-2\\}| = 2^{k-1}$. (3)\n",
    "\n",
    "(1), (2) and (3) together proves Lemma 4.3."
   ]
  },
  {
   "cell_type": "markdown",
   "metadata": {},
   "source": [
    "### Lemma 4.4\n",
    "\n",
    "> Let $f(i,j) = Ai + Bj + C \\text{ mod } 2^k$ in which $k \\ge 3$; $A, B, C \\in \\mathbb{Z}$; $4 \\nmid A; 4 \\nmid B$ and $i, j \\in \\{0, 1, ..., 2^{k-1} - 1\\}$; then $f(i, j) = 0$ has no solution if and only if one of the following holds:\n",
    ">\n",
    "> 1) $\\; 2 \\mid A$, $2 \\mid B$ and $2 \\nmid C$\n",
    "> \n",
    "> 2) $\\;2 \\nmid A$ and $A = B = C \\text{ mod } 2^k$\n",
    ">\n",
    "> 3) $\\;2 \\nmid A$, $A = -B \\text{ mod } 2^k$ and $C = 2^{k-1} \\text{ mod } 2^k$"
   ]
  },
  {
   "cell_type": "markdown",
   "metadata": {},
   "source": [
    "_Proof_\n",
    "\n",
    "When $2 \\nmid A$, applying Lemma 4.2: \n",
    "\n",
    "-   If $B \\ne \\pm A \\text{ mod } 2^k$, then $\\{Ai + Bj \\text{ mod } 2^k\\} = \\mathbb{Z}_{2^k}$. So, $Ai + Bj + C = 0 \\text{ mod } 2^k$ must have a solution. Note that $B$ is already not equal to $0 \\text{ mod } 2^k$ since $4 \\nmid B$ and $k \\ge 3$.\n",
    "\n",
    "-   If $B = A \\text{ mod } 2^k$, then $\\{Ai + Bj \\text{ mod } 2^k\\} = \\mathbb{Z}_{2^k} \\setminus \\{-A \\text{ mod } 2^k\\}$. So $Ai + Bj + C \\text{ mod } 2^k = 0$ has no solution if and only if $C = A \\text{ mod } 2^k$.\n",
    "\n",
    "-   If $B = -A \\text{ mod } 2^k$, then $\\{Ai + Bj \\text{ mod } 2^k\\} = \\mathbb{Z}_{2^k} \\setminus \\{2^{k-1} \\text{ mod } 2^k\\}$. So $Ai + Bj + C \\text{ mod } 2^k = 0$ has no solution if and only if $C = 2^{k-1} \\text{ mod } 2^k$.\n",
    "\n",
    "When $2 \\mid A$:\n",
    "\n",
    "-   If $2 \\nmid B$, by exchanging the role of $A$ and $B$ and applying Lemma 4.2, we still have the same result as above (no solution if and only if $A = B = C \\text{ mod } 2^k$ or $A = -B \\text{ mod } 2^k, C = 2^{k-1} \\text{ mod } 2^k$).\n",
    "\n",
    "-   If $2 \\mid B$, then applying Lemma 4.3, we have $\\{Ai \\text{ mod } 2^k\\} = \\{Bj \\text{ mod } 2^k\\} = \\{0, 2, 4, ..., 2^k-2\\}$. Therefore, ${Ai + Bj + C \\text{ mod } 2^k}$ equals to $\\{0, 2, 4, ..., 2^k-2\\}$ if $2 \\mid C$ or $\\{1, 3, 5, ..., 2^k-1\\}$ if $2 \\nmid C$. We conclude that $Ai + Bj + C \\text{ mod } 2^k = 0$ has no solution if and only if $2 \\nmid C$.\n",
    "\n",
    "When the cases above are summarized, Lemma 4.4 is proved."
   ]
  },
  {
   "cell_type": "markdown",
   "metadata": {},
   "source": [
    "### Lemma 4.5\n",
    "\n",
    "> The map $i \\mapsto Ai + B\\text{ mod } 2^k$ in which $k \\ge 3; A, B \\in \\mathbb{Z}$ and $i \\in \\{0, 1, ..., 2^{k-1}-1\\}$ is one-to-one if and only if $4 \\nmid A$."
   ]
  },
  {
   "cell_type": "markdown",
   "metadata": {},
   "source": [
    "_Proof_\n",
    "\n",
    "Observe that $i \\mapsto Ai + B\\text{ mod } 2^k$ is one-to-one if $i \\mapsto Ai \\text{ mod } 2^k$ is one-to-one and vice versa. Loosely speaking, the value of $B$ does not matter, so we replace it by 0.\n",
    "\n",
    "-   If $4 \\mid A$, then $Ai = Ai + A2^{k-2} = A(i+2^{k-2}) \\text{ mod } 2^k$. Therefore, the map is not one-to-one.\n",
    "-   If $4 \\nmid A$ and $2 \\mid A$, the map is one-to-one (see the proof of Lemma 4.3).\n",
    "-   If $2 \\nmid A$, then $A^{-1} \\text{ mod } 2^k$ exists. The map is one-to-one since it is invertible.\n",
    "\n",
    "Lemma 4.5 has been proved."
   ]
  },
  {
   "cell_type": "markdown",
   "metadata": {},
   "source": [
    "### Lemma 4.6\n",
    "\n",
    "> Consider the sets $S_1 = \\{A_1i + B_1 \\text{ mod } 2^k\\}$ and $S_2 = \\{A_2j + B_2 \\text{ mod } 2^k\\}$ in which $k \\ge 3$, $A_1, B_1, A_2, B_2 \\in \\mathbb{Z}$ and $i, j \\in \\{0, 1, ..., 2^{k-1} - 1\\}$. Then, $S_1 \\cup S_2 = \\mathbb{Z}_{2^k}$ if and only if one of the following holds:\n",
    ">\n",
    "> 1)   $\\;2 \\mid A_1$, $4 \\nmid A_1$, $2 \\mid A_2$, $4 \\nmid A_2$ and $2 \\nmid (B_1 - B_2)$.\n",
    ">\n",
    "> 2)   $\\;2 \\nmid A_1$, $A_2 = A_1 \\text{ mod } 2^k$ and $B_2 = B_1 + 2^{k-1} \\text{ mod } 2^k$.\n",
    ">\n",
    "> 3)   $\\;2 \\nmid A_1$, $A_2 = -A_1 \\text{ mod } 2^k$ and $B_2 = B_1 - A_1 \\text{ mod } 2^k$."
   ]
  },
  {
   "cell_type": "markdown",
   "metadata": {},
   "source": [
    "_Proof_\n",
    "\n",
    "Observe that $|S_1|$ and $|S_2|$ are at most $2^{k-1}$, therefore, $S_1 \\cup S_2 = \\mathbb{Z}_{2^k}$ if and only if the maps $i \\mapsto A_1i + B_1 \\text{ mod } 2^k$ and $j \\mapsto A_2j + B_2 \\text{ mod } 2^k$ are one-to-one and $S_1 \\cap S_2 = \\emptyset$. Let $f(i, j) = A_1i -A_2j + (B_1-B_2) \\text{ mod } 2^k$, then $S_1 \\cap S_2 = \\emptyset$ is equivalent to $f(i, j) = 0$ has no solution (1).\n",
    "\n",
    "If $4 \\mid A_1$ or $4 \\mid A_2$, then applying Lemma 4.5 to one of the two maps, we conclude that $S_1 \\cup S_2 \\ne \\mathbb{Z}_{2^k}$ (2).\n",
    "\n",
    "If $4 \\nmid A_1$ and $4 \\nmid A_2$, then applying Lemma 4.4 to $f$, we find out that $f(i, j) = 0$ has no solution when one of the following holds (3):\n",
    "-   $A_1$ and $A_2$ are both even, $B_1 - B_2$ is odd.\n",
    "-   $A_1$ is odd, $A_2 = -A_1 \\text{ mod } 2^k$ and $B_2 = B_1 - A_1 \\text{ mod } 2^k$.\n",
    "-   $A_1$ is odd, $A_2 = A_1 \\text{ mod } 2^k$ and $B_2 = B_1 + 2^{k-1} \\text{ mod } 2^k$.\n",
    "\n",
    "Also, by Lemma 4.5, the two maps $i \\mapsto A_1i + B_1 \\text{ mod } 2^k$ and $j \\mapsto A_2j + B_2 \\text{ mod } 2^k$ are both one-to-one when $4 \\nmid A_1$ and $4 \\nmid A_2$ (4). \n",
    "\n",
    "(1), (2), (3) and (4) together proves Lemma 4.6."
   ]
  },
  {
   "cell_type": "markdown",
   "metadata": {},
   "source": [
    "## The condition\n",
    "\n",
    "Now, let's head back to the main problem."
   ]
  },
  {
   "cell_type": "markdown",
   "metadata": {},
   "source": [
    "Firstly, observe that all elements of $D_{2^m}$ are: $e, a, a^2, ..., a^{2^{m-1}-1}, u, au, a^2u, ..., a^{2^{m-1}-1}u$. Therefore, a permutation (which is an onto map) has to map to all $a^i$, $i \\in \\{0, 1, ..., 2^{m-1}-1\\}$ and $a^ju$, $j \\in \\{0, 1, ..., 2^{m-1}-1\\}$."
   ]
  },
  {
   "cell_type": "markdown",
   "metadata": {},
   "source": [
    "So, $\\theta^{(r_1, r_2, c_1, c_2)}_{(q_1, q_2, b_1, b_2)}$ is a permutation if and only if both of the following holds:\n",
    "-   $\\{r_1i + c_1 \\text{ mod } 2^{m-1}; i \\in \\{0,1,...,2^{m-2}-1\\}\\} \\cup \\{q_2j + b_2 \\text{ mod } 2^{m-1}; j \\in \\{2^{m-2}, 2^{m-2}+1, ..., 2^{m-1}-1\\}\\} = \\mathbb{Z}_{2^{m-1}}. (1)$\n",
    "-   $\\{r_2i + c_2 \\text{ mod } 2^{m-1}; i \\in \\{2^{m-2}, 2^{m-2}+1, ..., 2^{m-1}-1\\} \\cup \\{q_1j + b_1 \\text{ mod } 2^{m-1}; j \\in \\{0,1,...,2^{m-2}-1\\}\\}\\} = \\mathbb{Z}_{2^{m-1}}. (2)$"
   ]
  },
  {
   "cell_type": "markdown",
   "metadata": {},
   "source": [
    "Furthermore, in order for $\\theta$ to be an orthomorphism, $\\pi(\\alpha) = \\alpha^{-1}\\theta(\\alpha)$ also needs to be a permutation. Let $\\pi^{(r_1, r_2, c_1, c_2)}_{(q_1, q_2, b_1, b_2)}(\\alpha) = \\alpha^{-1}\\theta^{(r_1, r_2, c_1, c_2)}_{(q_1, q_2, b_1, b_2)}(\\alpha)$. Some simple arithmetic gives us:\n",
    "\n",
    "$$\n",
    "\\pi^{(r_1, r_2, c_1, c_2)}_{(q_1, q_2, b_1, b_2)}: a^i \\mapsto \\begin{cases} \n",
    "   a^{(r_1-1)i + c_1}   & \\text{if } i \\in \\{0,1,...,2^{m-2}-1\\} \\\\\n",
    "   a^{(r_2-1)i + c_2}u  & \\text{if } i \\in \\{2^{m-2}, 2^{m-2}+1,...,2^{m-1}-1\\}\n",
    "\\end{cases}\n",
    "$$\n",
    "\n",
    "$$\n",
    "\\pi^{(r_1, r_2, c_1, c_2)}_{(q_1, q_2, b_1, b_2)}: a^iu \\mapsto \\begin{cases} \n",
    "   a^{(1-q_1)i - b_1}   & \\text{if } i \\in \\{0,1,...,2^{m-2}-1\\} \\\\\n",
    "   a^{(1-q_2)i - b_2}u  & \\text{if } i \\in \\{2^{m-2}, 2^{m-2}+1,...,2^{m-1}-1\\}\n",
    "\\end{cases}\n",
    "$$"
   ]
  },
  {
   "cell_type": "markdown",
   "metadata": {},
   "source": [
    "Therefore, $\\pi^{(r_1, r_2, c_1, c_2)}_{(q_1, q_2, b_1, b_2)}$ is a permutation if and only if both of the following holds:\n",
    "-   $\\{(r_1-1)i + c_1 \\text{ mod } 2^{m-1}; i \\in \\{0,1,...,2^{m-2}-1\\}\\} \\cup \\{(1-q_1)j - b_1 \\text{ mod } 2^{m-1}; j \\in \\{0,1,...,2^{m-2}-1\\}\\} = \\mathbb{Z}_{2^{m-1}}. (3)$\n",
    "-   $\\{(r_2-1)i + c_2 \\text{ mod } 2^{m-1}; i \\in \\{2^{m-2}, 2^{m-2}+1, ..., 2^{m-1}-1\\} \\cup \\{(1-q_2)j - b_2 \\text{ mod } 2^{m-1}; j \\in \\{0,1,...,2^{m-2}-1\\}\\}\\} = \\mathbb{Z}_{2^{m-1}}. (4)$"
   ]
  },
  {
   "cell_type": "markdown",
   "metadata": {},
   "source": [
    "Let $(A, B, k)$ be a shorthand for $\\{Ai + B \\text{ mod } 2^{k}; i \\in \\{0,1,...,2^{k-1}-1\\}\\}$. Then:\n",
    "-   $\\{q_2j + b_2 \\text{ mod } 2^{m-1}; j \\in \\{2^{m-2}, 2^{m-2}+1, ..., 2^{m-1}-1\\}\\}$ $=$ $\\{q_2(j-2^{m-2}) + (q_22^{m-2} + b_2) \\text{ mod } 2^{m-1}; j-2^{m-2} \\in \\{0, 1, ..., 2^{m-2}-1\\}\\}$ $=$ $(q_2, q_22^{m-2} + b_2, m-1)$. Therefore, (1) is equivalent to $(r_1, c_1, m-1) \\cup (q_2, q_22^{m-2} + b_2, m-1) = \\mathbb{Z}_{2^{m-1}}$.\n",
    "-   In a similar way, (2) is equivalent to $(r_2, r_22^{m-2}+c_2, m-1) \\cup (q_1, b_1, m-1) = \\mathbb{Z}_{2^{m-1}}$.\n",
    "-   (3) is equivalent to $(r_1-1, c_1, m-1) \\cup (1-q_1, -b_1, m-1) = \\mathbb{Z}_{2^{m-1}}$.\n",
    "-   (4) is equivalent to $(r_2-1, (r_2-1)2^{m-2} + c_2, m-1) \\cup (1-q_2, (1-q_2)2^{m-2} - b_2, m-1) = \\mathbb{Z}_{2^{m-1}}$."
   ]
  },
  {
   "cell_type": "markdown",
   "metadata": {},
   "source": [
    "As a conclusion, $\\theta^{(r_1, r_2, c_1, c_2)}_{(q_1, q_2, b_1, b_2)}$ is an orthomorphism if and only if all of the following holds:\n",
    "\n",
    "$$\n",
    "\\begin{cases}\n",
    "(r_1  &, c_1                  &, m-1) \\;\\cup\\; (q_2   &, q_22^{m-2} + b_2     &, m-1) = \\mathbb{Z}_{2^{m-1}} \\text{ (cond-1)}\\\\\n",
    "(r_2  &, r_22^{m-2}+c_2       &, m-1) \\;\\cup\\; (q_1   &, b_1                  &, m-1) = \\mathbb{Z}_{2^{m-1}} \\text{ (cond-2)}\\\\\n",
    "(r_1-1&, c_1                  &, m-1) \\;\\cup\\; (1-q_1 &, -b_1                 &, m-1) = \\mathbb{Z}_{2^{m-1}} \\text{ (cond-3)}\\\\\n",
    "(r_2-1&, (r_2-1)2^{m-2} + c_2 &, m-1) \\;\\cup\\; (1-q_2 &, (1-q_2)2^{m-2} - b_2 &, m-1) = \\mathbb{Z}_{2^{m-1}} \\text{ (cond-4)}\n",
    "\\end{cases}\n",
    "$$"
   ]
  },
  {
   "cell_type": "markdown",
   "metadata": {},
   "source": [
    "## The simplification\n",
    "\n",
    "Now we will heavily apply Lemma 4.6 to simplify the condition in the previous section. The phrase \"applying Lemma 4.6\" will be omitted most of the time."
   ]
  },
  {
   "cell_type": "markdown",
   "metadata": {},
   "source": [
    "Firstly, observe that in all the 3 cases of Lemma 4.6, $A_1$ and $A_2$ are both odd or both even. Therefore, from the condition, we conclude that $r_1$, $r_2$, $q_1$, $q_2$ are all odd or all even. Moreover, from _cond-1_ and _cond-3_, we have $4 \\nmid r_1$ and $4 \\nmid (r_1-1)$, which means $r_1 \\ne 0, 1 \\text{ mod } 4$. Similar things hold for $r_2$, $q_1$, $q_2$. Therefore, there are only 2 cases which we need to deal with: $r_1=r_2=q_1=q_2=2 \\text{ mod } 4$ and $r_1=r_2=q_1=q_2=3 \\text{ mod } 4$."
   ]
  },
  {
   "cell_type": "markdown",
   "metadata": {},
   "source": [
    "**Case 1:** $r_1=r_2=q_1=q_2=2 \\text{ mod } 4$.\n",
    "\n",
    "We can only apply exact 1 case of Lemma 4.6 to each sub-condition:\n",
    "-   Only 4.6.1 can be applied to _cond-1_.\n",
    "-   Only 4.6.1 can be applied to _cond-2_.\n",
    "-   Only 4.6.3 can be applied to _cond-3_ (applying 4.6.2 will lead to $r_1 + q_1 = 2 \\text{ mod } 4$ which is a contradiction).\n",
    "-   Only 4.6.3 can be applied to _cond-4_ (applying 4.6.2 will lead to $r_2 + q_2 = 2 \\text{ mod } 4$ which is a contradiction).\n",
    "\n",
    "Applying the appropriate case to each sub-condition, together with some simplification, gives us:\n",
    "\n",
    "$$\n",
    "\\begin{cases}\n",
    "    q_1 = r_1            &\\text{ mod } 2^{m-1}   \\\\\n",
    "    q_2 = r_2            &\\text{ mod } 2^{m-1}   \\\\\n",
    "    b_1 = r_1 - c_1 - 1  &\\text{ mod } 2^{m-1}   \\\\\n",
    "    b_2 = r_2 - c_2 - 1  &\\text{ mod } 2^{m-1}   \\\\\n",
    "    c_2 = c_1            &\\text{ mod } 2\n",
    "\\end{cases}\n",
    "$$"
   ]
  },
  {
   "cell_type": "markdown",
   "metadata": {},
   "source": [
    "**Case 2:** $r_1=r_2=q_1=q_2=3 \\text{ mod } 4$.\n",
    "\n",
    "We can only apply exact 1 case of Lemma 4.6 to each sub-condition:\n",
    "-   Only 4.6.1 can be applied to _cond-3_.\n",
    "-   Only 4.6.1 can be applied to _cond-4_.\n",
    "-   Only 4.6.2 can be applied to _cond-1_ (applying 4.6.3 will lead to $r_1 + q_2 = 0 \\text{ mod } 4$ which is a contradiction).\n",
    "-   Only 4.6.2 can be applied to _cond-2_ (applying 4.6.3 will lead to $r_2 + q_1 = 0 \\text{ mod } 4$ which is a contradiction).\n",
    "\n",
    "Applying the appropriate case to each sub-condition, together with some simplification, gives us:\n",
    "\n",
    "$$\n",
    "\\begin{cases}\n",
    "    q_1 = r_2            &\\text{ mod } 2^{m-1}   \\\\\n",
    "    q_2 = r_1            &\\text{ mod } 2^{m-1}   \\\\\n",
    "    b_1 = c_2            &\\text{ mod } 2^{m-1}   \\\\\n",
    "    b_2 = c_1            &\\text{ mod } 2^{m-1}   \\\\\n",
    "    c_2 = c_1 + 1        &\\text{ mod } 2\n",
    "\\end{cases}\n",
    "$$"
   ]
  },
  {
   "cell_type": "markdown",
   "metadata": {},
   "source": [
    "## The proof of concept"
   ]
  },
  {
   "cell_type": "markdown",
   "metadata": {
    "pycharm": {
     "name": "#%% md\n"
    }
   },
   "source": [
    "Here's a Python 3 function that finds all orthomorphisms in the set $DM_m$ using the above work. There are 2 cases. For each case, there are $\\frac{2^{m-1}}{4}$ choices for $r_1$, $\\frac{2^{m-1}}{4}$ choices for $r_2$ and $2^{m-1}$ choices for $c_1$ independently. For each $c_1$, there are $\\frac{2^{m-1}}{2}$ choices for $c_2$. Each $(r_1, r_2, c_1, c_2)$ tuple determines $q_1, q_2, b_1, b_2$. As a result, there are total $2 \\times \\frac{2^{m-1}}{4} \\times \\frac{2^{m-1}}{4} \\times 2^{m-1} \\times \\frac{2^{m-1}}{2} = 2^{4m-8}$ iterations. The function runs in polynomial time with respect to ${2^m}$ (the size of the dihedral group)."
   ]
  },
  {
   "cell_type": "code",
   "execution_count": 1,
   "metadata": {
    "pycharm": {
     "name": "#%%\n"
    }
   },
   "outputs": [],
   "source": [
    "def find_orthomorphisms_v1(m: int):\n",
    "    assert m >= 4\n",
    "    n = 2**(m-1)\n",
    "    result = set()\n",
    "    \n",
    "    # case 1\n",
    "    for r1 in range(2, n, 4):\n",
    "        for r2 in range(2, n, 4):\n",
    "            for c1 in range(n):\n",
    "                for c2 in range(c1 % 2, n, 2):\n",
    "                    q1 = r1\n",
    "                    q2 = r2\n",
    "                    b1 = (r1 - c1 - 1) % n\n",
    "                    b2 = (r2 - c2 - 1) % n\n",
    "                    result.add((r1, r2, c1, c2, q1, q2, b1, b2))\n",
    "    \n",
    "    # case 2\n",
    "    for r1 in range(3, n, 4):\n",
    "        for r2 in range(3, n, 4):\n",
    "            for c1 in range(n):\n",
    "                for c2 in range((c1+1) % 2, n, 2):\n",
    "                    q1 = r2\n",
    "                    q2 = r1\n",
    "                    b1 = c2\n",
    "                    b2 = c1\n",
    "                    result.add((r1, r2, c1, c2, q1, q2, b1, b2))\n",
    "    \n",
    "    return result"
   ]
  },
  {
   "cell_type": "markdown",
   "metadata": {
    "pycharm": {
     "name": "#%% md\n"
    }
   },
   "source": [
    "Here's another function that does the job by brute-forcing. It will loop through all possible values of $(r_1, r_2, c_1, c_2, q_1, q_2, b_1, b_2)$, which means $8^{2^{m-1}}$ times. Therefore, this function runs in exponential time with respect to the size of the dihedral group."
   ]
  },
  {
   "cell_type": "code",
   "execution_count": 2,
   "metadata": {
    "pycharm": {
     "name": "#%%\n"
    }
   },
   "outputs": [],
   "source": [
    "import itertools\n",
    "\n",
    "def find_orthomorphisms_v2(m: int):\n",
    "    assert m >= 4\n",
    "    n = 2**(m-1)\n",
    "    result = set()\n",
    "    for r1, r2, c1, c2, q1, q2, b1, b2 in itertools.product(range(n), repeat=8):\n",
    "        s1 = set((r1 * i + c1) % n for i in range(0, n//2))\n",
    "        s2 = set((q2 * i + b2) % n for i in range(n//2, n))\n",
    "        if len(s1.union(s2)) != n:\n",
    "            continue\n",
    "        s1 = set((r2 * i + c2) % n for i in range(n//2, n))\n",
    "        s2 = set((q1 * i + b1) % n for i in range(0, n//2))\n",
    "        if len(s1.union(s2)) != n:\n",
    "            continue\n",
    "        s1 = set((r1 * i - i + c1) % n for i in range(0, n//2))\n",
    "        s2 = set((i - q1 * i - b1) % n for i in range(0, n//2))\n",
    "        if len(s1.union(s2)) != n:\n",
    "            continue\n",
    "        s1 = set((r2 * i - i + c2) % n for i in range(n//2, n))\n",
    "        s2 = set((i - q2 * i - b2) % n for i in range(n//2, n))\n",
    "        if len(s1.union(s2)) != n:\n",
    "            continue\n",
    "        result.add((r1, r2, c1, c2, q1, q2, b1, b2))\n",
    "    \n",
    "    return result"
   ]
  },
  {
   "cell_type": "markdown",
   "metadata": {
    "pycharm": {
     "name": "#%% md\n"
    }
   },
   "source": [
    "Let's run the two functions above with $m = 4$ and compare the results."
   ]
  },
  {
   "cell_type": "code",
   "execution_count": 3,
   "metadata": {},
   "outputs": [
    {
     "name": "stdout",
     "output_type": "stream",
     "text": [
      "CPU times: user 81 µs, sys: 13 µs, total: 94 µs\n",
      "Wall time: 96.8 µs\n"
     ]
    }
   ],
   "source": [
    "%%time\n",
    "o1 = find_orthomorphisms_v1(4)"
   ]
  },
  {
   "cell_type": "code",
   "execution_count": 4,
   "metadata": {},
   "outputs": [
    {
     "name": "stdout",
     "output_type": "stream",
     "text": [
      "CPU times: user 34.4 s, sys: 504 µs, total: 34.4 s\n",
      "Wall time: 34.4 s\n"
     ]
    }
   ],
   "source": [
    "%%time\n",
    "o2 = find_orthomorphisms_v2(4)"
   ]
  },
  {
   "cell_type": "code",
   "execution_count": 5,
   "metadata": {
    "pycharm": {
     "name": "#%%\n"
    }
   },
   "outputs": [
    {
     "name": "stdout",
     "output_type": "stream",
     "text": [
      "256\n",
      "256\n",
      "True\n"
     ]
    }
   ],
   "source": [
    "print(len(o1))\n",
    "print(len(o2))\n",
    "print(o1 == o2)"
   ]
  },
  {
   "cell_type": "markdown",
   "metadata": {},
   "source": [
    "## The answers\n",
    "\n",
    "**_For Q1_:**\n",
    "\n",
    "As explained in the previous section, when we analyze the complexity of the first function, there are $2^{4m-8}$ iterations, and each iteration adds a new orthomorphism to the result set. Therefore, there are $2^{4m-8}$ orthomorphisms in the set $DM_m, m \\ge 4$.\n",
    "\n",
    "Since $2^{4m-8} = 256$ for $m = 4$, there are 256 orthomorphisms in the set $DM_4$. They're described in the answer below (for Q2).\n",
    "\n",
    "\n",
    "**_For Q2_:**\n",
    "\n",
    "The necessary and sufficient conditions of $r_1$, $r_2$, $c_1$, $c_2$, $q_1$, $q_2$, $b_1$, $b_2$ for a map in $DM_m$ to be an orthomorphism:\n",
    "\n",
    "$$\n",
    "\\begin{cases}\n",
    "    r_1 = r_2 = 2             &\\text{ mod } 4         \\\\\n",
    "    c_2 = c_1                 &\\text{ mod } 2         \\\\\n",
    "    q_1 = r_1                 &\\text{ mod } 2^{m-1}   \\\\\n",
    "    q_2 = r_2                 &\\text{ mod } 2^{m-1}   \\\\\n",
    "    b_1 = r_1 - c_1 - 1       &\\text{ mod } 2^{m-1}   \\\\\n",
    "    b_2 = r_2 - c_2 - 1       &\\text{ mod } 2^{m-1}   \n",
    "\\end{cases}\n",
    "$$\n",
    "\n",
    "or\n",
    "\n",
    "$$\n",
    "\\begin{cases}\n",
    "    r_1 = r_2 = 3             &\\text{ mod } 4         \\\\\n",
    "    c_2 = c_1 + 1             &\\text{ mod } 2         \\\\\n",
    "    q_1 = r_2                 &\\text{ mod } 2^{m-1}   \\\\\n",
    "    q_2 = r_1                 &\\text{ mod } 2^{m-1}   \\\\\n",
    "    b_1 = c_2                 &\\text{ mod } 2^{m-1}   \\\\\n",
    "    b_2 = c_1                 &\\text{ mod } 2^{m-1}   \n",
    "\\end{cases}\n",
    "$$\n",
    "\n",
    "(see Section _The simplification_)"
   ]
  }
 ],
 "metadata": {
  "kernelspec": {
   "display_name": "Python 3",
   "language": "python",
   "name": "python3"
  },
  "language_info": {
   "codemirror_mode": {
    "name": "ipython",
    "version": 3
   },
   "file_extension": ".py",
   "mimetype": "text/x-python",
   "name": "python",
   "nbconvert_exporter": "python",
   "pygments_lexer": "ipython3",
   "version": "3.7.8"
  }
 },
 "nbformat": 4,
 "nbformat_minor": 2
}
