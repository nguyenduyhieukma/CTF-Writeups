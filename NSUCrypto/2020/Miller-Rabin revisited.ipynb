{
 "cells": [
  {
   "cell_type": "markdown",
   "metadata": {},
   "source": [
    "# A solution for NSUCRYPTO 2020\n",
    "- Problem 6: _Miller-Rabin revisited_\n",
    "- By: _ndh_"
   ]
  },
  {
   "cell_type": "markdown",
   "metadata": {},
   "source": [
    "**_Answer to Q1_**:\n",
    "\n",
    "Let $a_0$ be the random $a$ chosen at Step 1 of the algorithm, then: \n",
    "-   $a = a_0^m$ after Step 2.\n",
    "-   $a = a_0^{3^{i+1}m}$ after each iteration at Step 3. $a = a_0^{3^{l}m}$ after Step 3.\n",
    "-   $a = a_0^{2^{i+1}3^{l}m}$ after each iteration at Step 4. $a = a_0^{2^k3^{l}m}$ after Step 4.\n",
    "\n",
    "If $n$ is prime, then the multiplicative order of $a_0$ divides $n - 1$ and can be written as $2^u3^vm^t$ in which $0 \\le u \\le k$, $0 \\le v \\le l$ and $0 \\le t \\le 1$. There are 3 possible cases which we will examine:\n",
    "\n",
    "1) $\\;u>0$\n",
    "\n",
    "2) $\\;u=0$ and $v>0$\n",
    "\n",
    "3) $\\;u=v=0$\n",
    "\n",
    "**Case 1:** $u>0$.\n",
    "\n",
    "Let $c = a_0^{2^{u-1}3^lm}$, then we have:\n",
    "\n",
    "$$\n",
    "\\begin{cases}\n",
    "    c \\ne 1 \\text{ mod } n \\\\\n",
    "    c^2 = 1 \\text{ mod } n\n",
    "\\end{cases} \\implies\n",
    "\\begin{cases}\n",
    "    n \\nmid (c-1) \\\\\n",
    "    n \\mid (c-1)(c+1)\n",
    "\\end{cases} \\implies\n",
    "n \\mid (c+1) \\;\\text{ (since } n \\text{ is prime)}\n",
    "$$\n",
    "\n",
    "Therefore, the algorithm terminates at the iteration for $i = u-1$ at Step 4 and outputs \"PROBABLY PRIME\".\n",
    "\n",
    "**Case 2:** $u=0$ and $v>0$.\n",
    "\n",
    "Let $c = a_0^{3^{v-1}m}$, then we have:\n",
    "\n",
    "$$\n",
    "\\begin{cases}\n",
    "    c \\ne 1 \\text{ mod } n \\\\\n",
    "    c^3 = 1 \\text{ mod } n\n",
    "\\end{cases} \\implies\n",
    "\\begin{cases}\n",
    "    n \\nmid (c-1) \\\\\n",
    "    n \\mid (c-1)(c^2+c+1)\n",
    "\\end{cases} \\implies\n",
    "n \\mid (c^2+c+1) \\;\\text{ (since } n \\text{ is prime)}\n",
    "$$\n",
    "\n",
    "Therefore, the algorithm terminates at the iteration for $i = v-1$ at Step 3 and outputs \"PROBABLY PRIME\".\n",
    "\n",
    "**Case 3:** $u=v=0$.\n",
    "\n",
    "Since $a_0^m = 1 \\text{ mod } n$, the algorithm terminates at Step 2 and outputs \"PROBABLY PRIME\".\n",
    "\n",
    "---\n",
    "\n",
    "Since the algorithm always outputs \"PROBABLY PRIME\" for a prime $n$, it does not fail."
   ]
  }
 ],
 "metadata": {
  "kernelspec": {
   "display_name": "Python 3",
   "language": "python",
   "name": "python3"
  },
  "language_info": {
   "codemirror_mode": {
    "name": "ipython",
    "version": 3
   },
   "file_extension": ".py",
   "mimetype": "text/x-python",
   "name": "python",
   "nbconvert_exporter": "python",
   "pygments_lexer": "ipython3",
   "version": "3.7.8"
  }
 },
 "nbformat": 4,
 "nbformat_minor": 2
}
