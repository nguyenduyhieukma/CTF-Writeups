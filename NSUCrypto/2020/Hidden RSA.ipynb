{
 "cells": [
  {
   "cell_type": "markdown",
   "metadata": {},
   "source": [
    "# A solution for NSUCRYPTO 2020\n",
    "- Problem 3: _Hidden RSA_\n",
    "- By: _ndh_"
   ]
  },
  {
   "cell_type": "markdown",
   "metadata": {},
   "source": [
    "Let $f$ denote `Encr`."
   ]
  },
  {
   "cell_type": "markdown",
   "metadata": {},
   "source": [
    "Since we have an oracle that returns $y = f(x) = x^e \\text{ mod } n$ for arbitrary $x$ of our choice, we are able to compute as many multiples of $n$ as we want by using the fact that $f(x_1)f(x_2) = f(x_1x_2) \\text { mod } n$. For example, knowing that $f(2)^2 = f(4) \\text{ mod } n$, we can make queries for $f(2)$ and $f(4)$ and compute $f(2)^2 - f(4)$ which should be a multiple of $n$. $n$ can then be recovered by applying the standard Euclidean Greatest Common Divisor algorithm."
   ]
  },
  {
   "cell_type": "markdown",
   "metadata": {},
   "source": [
    "Here are $f(2)$, $f(4)$ and $f(8)$ returned from the server:"
   ]
  },
  {
   "cell_type": "code",
   "execution_count": 1,
   "metadata": {},
   "outputs": [],
   "source": [
    "y2 = 50154912289039335014669339773308393642658123228965873078737860474494117389068\n",
    "y4 = 34176590322694690833975364940063423615063159848675783675025873390206977645476\n",
    "y8 = 52560386591865237573584602609517662189426443148418873287042585337399092751771"
   ]
  },
  {
   "cell_type": "markdown",
   "metadata": {},
   "source": [
    "Let's find $n$:"
   ]
  },
  {
   "cell_type": "code",
   "execution_count": 2,
   "metadata": {},
   "outputs": [
    {
     "name": "stdout",
     "output_type": "stream",
     "text": [
      "256\n"
     ]
    }
   ],
   "source": [
    "from Crypto.Util.number import GCD  # https://pypi.org/project/pycryptodome/\n",
    "k1n = y2*y2 - y4\n",
    "k2n = y2*y4 - y8\n",
    "n = GCD(k1n, k2n)  # this is in fact GCD(k1, k2) * n\n",
    "\n",
    "# brute-force GCD(k1, k2).\n",
    "for i in range(2**(n.bit_length() - y2.bit_length() + 1), 1, -1):\n",
    "    if n % i == 0:\n",
    "        n = n // i\n",
    "        break\n",
    "        \n",
    "print(n.bit_length())"
   ]
  },
  {
   "cell_type": "markdown",
   "metadata": {},
   "source": [
    "As we can see, $n$ is only 256 bit long. Factoring a 256-bit integer is not a hard task nowadays. For example, the general `factor` function of [SageMath](https://www.sagemath.org/) (there are probably better tools around) can do the job in a few minutes on a common laptop."
   ]
  },
  {
   "cell_type": "code",
   "execution_count": 3,
   "metadata": {},
   "outputs": [
    {
     "name": "stdout",
     "output_type": "stream",
     "text": [
      "CPU times: user 5min 29s, sys: 527 ms, total: 5min 29s\n",
      "Wall time: 5min 29s\n"
     ]
    }
   ],
   "source": [
    "%%time\n",
    "from sage.all import factor\n",
    "(p, _), (q, _) = factor(n)"
   ]
  },
  {
   "cell_type": "markdown",
   "metadata": {},
   "source": [
    "Now, we compute the secret exponent $d$ by solving 2 discrete logarithm problems over the 2 prime fields $\\mathbb{F}_p$ and $\\mathbb{F}_q$. Again, since $p$ and $q$ are only 128-bit long, the problems are not hard."
   ]
  },
  {
   "cell_type": "code",
   "execution_count": 4,
   "metadata": {},
   "outputs": [
    {
     "name": "stdout",
     "output_type": "stream",
     "text": [
      "CPU times: user 3min 16s, sys: 405 ms, total: 3min 17s\n",
      "Wall time: 3min 16s\n"
     ]
    }
   ],
   "source": [
    "%%time\n",
    "from sage.all import GF\n",
    "Fp = GF(p)\n",
    "Fq = GF(q)\n",
    "dp = Fp(2).log(Fp(y2))  # y2^dp = 2 mod p\n",
    "dq = Fq(2).log(Fq(y2))  # y2^dq = 2 mod q"
   ]
  },
  {
   "cell_type": "markdown",
   "metadata": {},
   "source": [
    "Now, let's decrypt the given ciphertext $y$ (by solving for $x \\text{ mod } p$ and $x \\text { mod } q$ first, then using the Chinese Remainder Theorem to derive the plaintext $x \\text{ mod } n$):"
   ]
  },
  {
   "cell_type": "code",
   "execution_count": 5,
   "metadata": {},
   "outputs": [
    {
     "name": "stdout",
     "output_type": "stream",
     "text": [
      "202010181600\n"
     ]
    }
   ],
   "source": [
    "from sage.all import crt\n",
    "y = 71511896681324833458361392885184344933333159830863878600189212073777582178173\n",
    "xp = Fp(y) ** dp\n",
    "xq = Fq(y) ** dq\n",
    "x = crt(int(xp), int(xq), p, q)\n",
    "print(x)"
   ]
  },
  {
   "cell_type": "markdown",
   "metadata": {},
   "source": [
    "The plaintext is the starting time of the second round in UTC+7: 16h00 18/10/2020."
   ]
  }
 ],
 "metadata": {
  "kernelspec": {
   "display_name": "Python 3",
   "language": "python",
   "name": "python3"
  },
  "language_info": {
   "codemirror_mode": {
    "name": "ipython",
    "version": 3
   },
   "file_extension": ".py",
   "mimetype": "text/x-python",
   "name": "python",
   "nbconvert_exporter": "python",
   "pygments_lexer": "ipython3",
   "version": "3.7.8"
  }
 },
 "nbformat": 4,
 "nbformat_minor": 2
}
