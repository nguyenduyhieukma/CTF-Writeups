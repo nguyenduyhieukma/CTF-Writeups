{
 "cells": [
  {
   "cell_type": "markdown",
   "metadata": {},
   "source": [
    "# A solution for NSUCRYPTO 2020\n",
    "- Problem 7: _CPA game_\n",
    "- By: _ndh_"
   ]
  },
  {
   "cell_type": "markdown",
   "metadata": {},
   "source": [
    "The darkness of the game lies in the fact that Victor already knows what IV to be used before he sends the messages to Alice, starting from the second query. In CBC mode, knowing the IV in advance helps attackers (in the chosen plaintext attack model) control input to the first call of the encryption function $E$ by flipping bits in the first block of the message to be encrypted. The following algorithm, which just uses 2 queries, wins the game with 100% successful rate (CPVadv = 1/2):\n",
    "\n",
    "-   Input: None\n",
    "-   Output: $b \\in \\{0, 1\\}$\n",
    "\n",
    "\n",
    "1. Choose 2 random different blocks $B_0$ and $B_1$ and send these blocks to Alice as two 1-block messages: $m_{1,0} = B_0$ and $m_{1,1} = B_1$. Receive the ciphertext consisting of the initial vector used to encrypt one of the message $\\text{IV}$ and the encrypted block $C_1 = E(\\text{IV} \\oplus B_b)$.\n",
    "2. Choose $m_{2,0} = m_{2,1} = C_1 \\oplus \\text{IV} \\oplus B_0$ and send these messages to Alice. Receive $C_1$ and $C_2 = E(C_1 \\oplus (C_1 \\oplus \\text{IV} \\oplus B_0))$ = $E(\\text{IV} \\oplus B_0)$, since $C_1$ will be used as the initial vector to encrypt $m_{2, i}$.\n",
    "3. Let $b = 0$ if $C_1 = C_2$, otherwise $b = 1$. Return $b$. Note that $C_1 = C_2$ $\\iff $ $E(\\text{IV} \\oplus B_b) = E(\\text{IV} \\oplus B_0)$ $\\iff $ $\\text{IV} \\oplus B_b = \\text{IV} \\oplus B_0$ ($E$ is invertible) $\\iff $$B_b = B_0$$\\iff $$b = 0$. "
   ]
  }
 ],
 "metadata": {
  "kernelspec": {
   "display_name": "Python 3",
   "language": "python",
   "name": "python3"
  },
  "language_info": {
   "codemirror_mode": {
    "name": "ipython",
    "version": 3
   },
   "file_extension": ".py",
   "mimetype": "text/x-python",
   "name": "python",
   "nbconvert_exporter": "python",
   "pygments_lexer": "ipython3",
   "version": "3.7.8"
  }
 },
 "nbformat": 4,
 "nbformat_minor": 2
}
