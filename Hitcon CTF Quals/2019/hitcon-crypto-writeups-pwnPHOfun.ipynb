{
 "cells": [
  {
   "cell_type": "markdown",
   "metadata": {
    "slideshow": {
     "slide_type": "slide"
    }
   },
   "source": [
    "# HITCON CTF 2019 Quals Writeups for Crypto challenges\n",
    "## from _pwnPHOfun_ team"
   ]
  },
  {
   "cell_type": "markdown",
   "metadata": {
    "slideshow": {
     "slide_type": "slide"
    }
   },
   "source": [
    "|Name|Total solves|Points|Solved during contest?|\n",
    "|---|---|---|---|\n",
    "|Lost modulus again|64|200|✓|\n",
    "|Very simple Haskell|64|200|✓|\n",
    "|Lost key again|10|334|&nbsp;|\n",
    "|Not so hard RSA|6|371|✓|\n",
    "|Randomly select a cat|3|421|&nbsp;|"
   ]
  },
  {
   "cell_type": "markdown",
   "metadata": {
    "slideshow": {
     "slide_type": "slide"
    }
   },
   "source": [
    "## 1. Lost modulus again\n",
    "\n",
    "-   Solves: _64_\n",
    "-   Points: _200_\n",
    "-   Status: _Done (during contest)_\n",
    "-   Tags: _RSA_, _system of 2 equations of $p$ and $q$_\n"
   ]
  },
  {
   "cell_type": "markdown",
   "metadata": {
    "slideshow": {
     "slide_type": "slide"
    }
   },
   "source": [
    "### 1.1. Challenge summary \n",
    "\n",
    "Find $p$ and $q$, given:\n",
    "-  $E$: the public exponent\n",
    "-  $D$: the private exponent\n",
    "-  $I_p = p^{-1} \\text{mod } q$ \n",
    "-  $I_q = q^{-1} \\text{mod } p$."
   ]
  },
  {
   "cell_type": "markdown",
   "metadata": {
    "slideshow": {
     "slide_type": "slide"
    }
   },
   "source": [
    "### 1.2. Solution\n",
    "\n",
    "The first equation:\n",
    "$$\n",
    "ED = K(p-1)(q-1) + 1\n",
    "$$"
   ]
  },
  {
   "cell_type": "markdown",
   "metadata": {
    "slideshow": {
     "slide_type": "fragment"
    }
   },
   "source": [
    "The second equation:\n",
    "$$\n",
    "I_pp + I_qq = pq + 1\n",
    "$$"
   ]
  },
  {
   "cell_type": "markdown",
   "metadata": {
    "slideshow": {
     "slide_type": "subslide"
    }
   },
   "source": [
    "Solve the two equations with SageMath symbolic computation:"
   ]
  },
  {
   "cell_type": "code",
   "execution_count": 1,
   "metadata": {
    "scrolled": true,
    "slideshow": {
     "slide_type": "fragment"
    }
   },
   "outputs": [
    {
     "name": "stdout",
     "output_type": "stream",
     "text": [
      "p == -(ED*Iq - ((Ip + 2)*Iq - Iq^2 - 2)*K - Iq*(sqrt((Ip^2 + 2*(Ip - 2)*Iq + Iq^2 - 4*Ip + 4)*K^2 + ED^2 - 2*(((2*Ip - 1)*Iq - Ip)*ED - (2*Ip - 1)*Iq + Ip)*K - 2*ED + 1) + 1))/(((2*Ip - 1)*Iq - Ip)*K - ED + sqrt((Ip^2 + 2*(Ip - 2)*Iq + Iq^2 - 4*Ip + 4)*K^2 + ED^2 - 2*(((2*Ip - 1)*Iq - Ip)*ED - (2*Ip - 1)*Iq + Ip)*K - 2*ED + 1) + 1) \n",
      "\n",
      "q == -1/2*((Ip - Iq)*K - ED + sqrt((Ip^2 + 2*(Ip - 2)*Iq + Iq^2 - 4*Ip + 4)*K^2 + ED^2 - 2*(((2*Ip - 1)*Iq - Ip)*ED - (2*Ip - 1)*Iq + Ip)*K - 2*ED + 1) + 1)/((Iq - 1)*K) \n",
      "\n",
      "p == -(ED*Iq - ((Ip + 2)*Iq - Iq^2 - 2)*K + Iq*(sqrt((Ip^2 + 2*(Ip - 2)*Iq + Iq^2 - 4*Ip + 4)*K^2 + ED^2 - 2*(((2*Ip - 1)*Iq - Ip)*ED - (2*Ip - 1)*Iq + Ip)*K - 2*ED + 1) - 1))/(((2*Ip - 1)*Iq - Ip)*K - ED - sqrt((Ip^2 + 2*(Ip - 2)*Iq + Iq^2 - 4*Ip + 4)*K^2 + ED^2 - 2*(((2*Ip - 1)*Iq - Ip)*ED - (2*Ip - 1)*Iq + Ip)*K - 2*ED + 1) + 1) \n",
      "\n",
      "q == -1/2*((Ip - Iq)*K - ED - sqrt((Ip^2 + 2*(Ip - 2)*Iq + Iq^2 - 4*Ip + 4)*K^2 + ED^2 - 2*(((2*Ip - 1)*Iq - Ip)*ED - (2*Ip - 1)*Iq + Ip)*K - 2*ED + 1) + 1)/((Iq - 1)*K) \n",
      "\n"
     ]
    }
   ],
   "source": [
    "var(\"ED, K, Ip, Iq, K, p, q\")\n",
    "solutions = solve([ED == K*(p-1)*(q-1) + 1, Ip*p + Iq*q == p*q + 1], p, q)\n",
    "for solution in solutions:\n",
    "    print solution[0], '\\n'\n",
    "    print solution[1], '\\n'"
   ]
  },
  {
   "cell_type": "markdown",
   "metadata": {
    "slideshow": {
     "slide_type": "subslide"
    }
   },
   "source": [
    "Brute-force `K` until `(Ip^2 + 2*(Ip - 2)*Iq + Iq^2 - 4*Ip + 4)*K^2 + ED^2 - 2*(((2*Ip - 1)*Iq - Ip)*ED - (2*Ip - 1)*Iq + Ip)*K - 2*ED + 1` is a perfect square:"
   ]
  },
  {
   "cell_type": "code",
   "execution_count": 2,
   "metadata": {
    "slideshow": {
     "slide_type": "fragment"
    }
   },
   "outputs": [
    {
     "name": "stdout",
     "output_type": "stream",
     "text": [
      "K = 973605\n"
     ]
    }
   ],
   "source": [
    "E = 1048583\n",
    "D = 20899585599499852848600179189763086698516108548228367107221738096450499101070075492197700491683249172909869748620431162381087017866603003080844372390109407618883775889949113518883655204495367156356586733638609604914325927159037673858380872827051492954190012228501796895529660404878822550757780926433386946425164501187561418082866346427628551763297010068329425460680225523270632454412376673863754258135691783420342075219153761633410012733450586771838248239221434791288928709490210661095249658730871114233033907339401132548352479119599592161475582267434069666373923164546185334225821332964035123667137917080001159691927\n",
    "ED = E*D\n",
    "Ip = 22886390627173202444468626406642274959028635116543626995297684671305848436910064602418012808595951325519844918478912090039470530649857775854959462500919029371215000179065185673136642143061689849338228110909931445119687113803523924040922470616407096745128917352037282612768345609735657018628096338779732460743\n",
    "Iq = 138356012157150927033117814862941924437637775040379746970778376921933744927520585574595823734209547857047013402623714044512594300691782086053475259157899010363944831564630625623351267412232071416191142966170634950729938561841853176635423819365023039470901382901261884795304947251115006930995163847675576699331\n",
    "for K in range(E, -1, -1):\n",
    "    delta = (Ip^2 + 2*(Ip - 2)*Iq + Iq^2 - 4*Ip + 4)*K^2 + ED^2 - 2*(((2*Ip - 1)*Iq - Ip)*ED - (2*Ip - 1)*Iq + Ip)*K - 2*ED + 1\n",
    "    if is_square(delta):\n",
    "        break\n",
    "print 'K =', K"
   ]
  },
  {
   "cell_type": "markdown",
   "metadata": {
    "slideshow": {
     "slide_type": "subslide"
    }
   },
   "source": [
    "Deduce $p$, $q$:"
   ]
  },
  {
   "cell_type": "code",
   "execution_count": 3,
   "metadata": {
    "slideshow": {
     "slide_type": "fragment"
    }
   },
   "outputs": [
    {
     "name": "stdout",
     "output_type": "stream",
     "text": [
      "p =  166564961597106229342966450443567005929416288372170308009700499465281616388542030734600089639466922805142577582894052957547174764252067983124558747593344882775630971023610755334859287415681252266825395627416912206349590353878868107848653100299011246746851490276537231636534462821659050996145878589643016881929\n",
      "q =  135136928230019073146158752709151576119155564982754768027494878210491711363872928718225319693774548227271767324623087432404412585662574641211148315864508708036871556964386141364368797168619283425834644924573664613109609076319077176698754203574237779054129492453503018443013301394555677417140681949745410143477\n"
     ]
    }
   ],
   "source": [
    "q = -1/2*((Ip - Iq)*K - ED - sqrt(delta) + 1)/((Iq - 1)*K)\n",
    "if not q.is_integer():\n",
    "    q = -1/2*((Ip - Iq)*K - ED + sqrt(delta) + 1)/((Iq - 1)*K)\n",
    "    assert q.is_integer() \n",
    "\n",
    "p = (ED-1) / K / (q-1) + 1\n",
    "assert p.is_integer()\n",
    "\n",
    "print 'p = ', p\n",
    "print 'q = ', q"
   ]
  },
  {
   "cell_type": "markdown",
   "metadata": {
    "slideshow": {
     "slide_type": "subslide"
    }
   },
   "source": [
    "Decrypt the flag:"
   ]
  },
  {
   "cell_type": "code",
   "execution_count": 4,
   "metadata": {
    "slideshow": {
     "slide_type": "fragment"
    }
   },
   "outputs": [
    {
     "name": "stdout",
     "output_type": "stream",
     "text": [
      "hitcon{1t_is_50_easy_t0_find_th3_modulus_back@@!!@!@!@@!}\n",
      "\n"
     ]
    }
   ],
   "source": [
    "from Crypto.Util.number import long_to_bytes\n",
    "c = 0x32074de818f2feeb788e36d7d3ee09f0000381584a72b2fba0dcc9a2ebe5fd79cf2d6fd40c4dbfea27d3489704f2c1a30b17a783baa67229d02043c5bc9bdb995ae984d80a96bd79370ea2c356f39f85a12d16983598c1fb772f9183441fea5dfeb5b26455df75de18ce70a6a9e9dbc0a4ca434ba94cf4d1e5347395cf7aafa756c8a5bd6fd166bc30245a4bded28f5baac38d024042a166369f7515e8b0c479a1965b5988b350064648738f6585c0a0d1463bd536d11a105bb926b44236593b5c6c71ef5b132cd9c211e8ad9131aa53ffde88f5b0df18e7c45bcdb6244edcaa8d386196d25297c259fca3be37f0f2015f40cb5423a918c51383390dfd5a8703\n",
    "print long_to_bytes(pow(c, D, p*q))"
   ]
  },
  {
   "cell_type": "markdown",
   "metadata": {
    "slideshow": {
     "slide_type": "slide"
    }
   },
   "source": [
    "## 2. Very simple Haskell\n",
    "\n",
    "-   Solves: _64_\n",
    "-   Points: _200_\n",
    "-   Status: _Done (during contest)_\n",
    "-   Tags: _Unpopular language_, _modular arithmetic_"
   ]
  },
  {
   "cell_type": "markdown",
   "metadata": {
    "slideshow": {
     "slide_type": "slide"
    }
   },
   "source": [
    "### 2.1. Challenge summary "
   ]
  },
  {
   "cell_type": "markdown",
   "metadata": {
    "slideshow": {
     "slide_type": "fragment"
    }
   },
   "source": [
    "A hash function $h$ which takes as input a binary string $m$ and ouputs an element of $Z_n$, works as follows:"
   ]
  },
  {
   "cell_type": "markdown",
   "metadata": {
    "slideshow": {
     "slide_type": "fragment"
    }
   },
   "source": [
    "1.  Cuts $m$ into 131-bit blocks $m_i$'s. Last block will be padded with zero bits. A block representing the length of $m$ is also appended."
   ]
  },
  {
   "cell_type": "markdown",
   "metadata": {
    "slideshow": {
     "slide_type": "fragment"
    }
   },
   "source": [
    "<center><img src='2-1.png'></center>"
   ]
  },
  {
   "cell_type": "markdown",
   "metadata": {
    "slideshow": {
     "slide_type": "fragment"
    }
   },
   "source": [
    "2.  For each block $m_i$, computes $s_i = \\prod_{j=0}^{130}p_j^{b_j}$ in which $p_0, p_1, ... p_{130}$ are the first 131 primes: $2, 3, 5, ... 739$."
   ]
  },
  {
   "cell_type": "markdown",
   "metadata": {
    "slideshow": {
     "slide_type": "subslide"
    }
   },
   "source": [
    "3.  Outputs $\\sum_{i=0}^ts_i^{2^i}$"
   ]
  },
  {
   "cell_type": "markdown",
   "metadata": {
    "slideshow": {
     "slide_type": "fragment"
    }
   },
   "source": [
    "![](2-2.png)"
   ]
  },
  {
   "cell_type": "markdown",
   "metadata": {
    "slideshow": {
     "slide_type": "subslide"
    }
   },
   "source": [
    "_The mission_: find flag, given `h(\"the flag is hitcon{??????}\")` (`??????` are 6 unknown characters)."
   ]
  },
  {
   "cell_type": "markdown",
   "metadata": {
    "slideshow": {
     "slide_type": "slide"
    }
   },
   "source": [
    "### 2.2. Solution"
   ]
  },
  {
   "cell_type": "markdown",
   "metadata": {
    "slideshow": {
     "slide_type": "fragment"
    }
   },
   "source": [
    "The first step: test the length of `m = \"the flag is hitcon{??????}\"`:"
   ]
  },
  {
   "cell_type": "code",
   "execution_count": 5,
   "metadata": {
    "slideshow": {
     "slide_type": "fragment"
    }
   },
   "outputs": [
    {
     "name": "stdout",
     "output_type": "stream",
     "text": [
      "208\n"
     ]
    }
   ],
   "source": [
    "from bitstring import BitArray\n",
    "\n",
    "m = BitArray(bytes=\"the flag is hitcon{\\x00\\x00\\x00\\x00\\x00\\x00}\")\n",
    "original_length = len(m)\n",
    "print original_length "
   ]
  },
  {
   "cell_type": "markdown",
   "metadata": {
    "slideshow": {
     "slide_type": "subslide"
    }
   },
   "source": [
    "If $m$ is padded, it will look like:"
   ]
  },
  {
   "cell_type": "markdown",
   "metadata": {
    "slideshow": {
     "slide_type": "fragment"
    }
   },
   "source": [
    "<center><img src='2-3.png' align='center'></center>"
   ]
  },
  {
   "cell_type": "markdown",
   "metadata": {
    "slideshow": {
     "slide_type": "subslide"
    }
   },
   "source": [
    "Observe that $h(m)$ would be equal to $h(m_\\text{ without flag}) * h(m_\\text{ with flag only})$:"
   ]
  },
  {
   "cell_type": "markdown",
   "metadata": {
    "slideshow": {
     "slide_type": "fragment"
    }
   },
   "source": [
    "<center><img src='2-4.png' align='center'></center>"
   ]
  },
  {
   "cell_type": "markdown",
   "metadata": {
    "slideshow": {
     "slide_type": "subslide"
    }
   },
   "source": [
    "Compute the hash value for $m_\\text{without flag}$:"
   ]
  },
  {
   "cell_type": "code",
   "execution_count": 6,
   "metadata": {
    "slideshow": {
     "slide_type": "fragment"
    }
   },
   "outputs": [
    {
     "name": "stdout",
     "output_type": "stream",
     "text": [
      "129105988525739869308153101831605950072860268575706582195774923614094296354415364173823406181109200888049609207238266506466864447780824680862439187440797565555486108716502098901182492654356397840996322893263870349262138909453630565384869193972124927953237311411285678188486737576555535085444384901167109670365\n"
     ]
    }
   ],
   "source": [
    "primes = primes_first_n(131)\n",
    "n = 134896036104102133446208954973118530800743044711419303630456535295204304771800100892609593430702833309387082353959992161865438523195671760946142657809228938824313865760630832980160727407084204864544706387890655083179518455155520501821681606874346463698215916627632418223019328444607858743434475109717014763667\n",
    "\n",
    "m = m + BitArray(length=(-original_length % 131)) + BitArray(length=131, uint=original_length)[::-1]\n",
    "\n",
    "s2 = product(p^b for b,p in zip(m[:131], primes))\n",
    "s1 = product(p^b for b,p in zip(m[131:131*2], primes))\n",
    "s0 = product(p^b for b,p in zip(m[131*2:], primes))\n",
    "hash_value_without_flag = s2^4*s1^2*s0 % n\n",
    "print hash_value_without_flag"
   ]
  },
  {
   "cell_type": "markdown",
   "metadata": {
    "slideshow": {
     "slide_type": "subslide"
    }
   },
   "source": [
    "And then, $m_\\text{with flag only}$:"
   ]
  },
  {
   "cell_type": "code",
   "execution_count": 7,
   "metadata": {
    "slideshow": {
     "slide_type": "fragment"
    }
   },
   "outputs": [
    {
     "name": "stdout",
     "output_type": "stream",
     "text": [
      "3406218222930966554172275269328526576001581947668541896752967656582693660956578801\n"
     ]
    }
   ],
   "source": [
    "hash_value = 84329776255618646348016649734028295037597157542985867506958273359305624184282146866144159754298613694885173220275408231387000884549683819822991588176788392625802461171856762214917805903544785532328453620624644896107723229373581460638987146506975123149045044762903664396325969329482406959546962473688947985096\n",
    "hash_value_with_flag_only = hash_value * inverse_mod(hash_value_without_flag, n) % n\n",
    "print hash_value_with_flag_only"
   ]
  },
  {
   "cell_type": "markdown",
   "metadata": {
    "slideshow": {
     "slide_type": "subslide"
    }
   },
   "source": [
    "Finally, deduce the flag:"
   ]
  },
  {
   "cell_type": "code",
   "execution_count": 8,
   "metadata": {
    "slideshow": {
     "slide_type": "fragment"
    }
   },
   "outputs": [
    {
     "name": "stdout",
     "output_type": "stream",
     "text": [
      "the flag is hitcon{v@!>A#}\n"
     ]
    }
   ],
   "source": [
    "for p, _ in list(factor(sqrt(hash_value_with_flag_only))):\n",
    "    m[131 + primes.index(p)] = 1\n",
    "    \n",
    "print m[:original_length].bytes"
   ]
  },
  {
   "cell_type": "markdown",
   "metadata": {
    "slideshow": {
     "slide_type": "slide"
    }
   },
   "source": [
    "## 3. Lost key again\n",
    "\n",
    "-   Solves: _10_\n",
    "-   Points: _334_\n",
    "-   Status: _Done (after contest)_\n",
    "-   Tags: _RSA_, _encryption oracle_, _weak n_"
   ]
  },
  {
   "cell_type": "markdown",
   "metadata": {
    "slideshow": {
     "slide_type": "slide"
    }
   },
   "source": [
    "### 3.1. Challenge summary"
   ]
  },
  {
   "cell_type": "markdown",
   "metadata": {
    "slideshow": {
     "slide_type": "fragment"
    }
   },
   "source": [
    "At the beginning of each connection, the server prints out the flag in encrypted form, and allows us to encrypt arbitrary messages that:"
   ]
  },
  {
   "cell_type": "markdown",
   "metadata": {
    "slideshow": {
     "slide_type": "fragment"
    }
   },
   "source": [
    "1.  start with 0x583a20\n",
    "2.  are at most 18-byte long"
   ]
  },
  {
   "cell_type": "markdown",
   "metadata": {
    "slideshow": {
     "slide_type": "slide"
    }
   },
   "source": [
    "### 3.2. RSA revisited"
   ]
  },
  {
   "cell_type": "markdown",
   "metadata": {
    "slideshow": {
     "slide_type": "fragment"
    }
   },
   "source": [
    "<center><img src='3-1.png'></center>"
   ]
  },
  {
   "cell_type": "markdown",
   "metadata": {
    "slideshow": {
     "slide_type": "slide"
    }
   },
   "source": [
    "### 3.3. Solution"
   ]
  },
  {
   "cell_type": "markdown",
   "metadata": {
    "slideshow": {
     "slide_type": "fragment"
    }
   },
   "source": [
    "To recover $n$, we need to find a set of messages such that:\n",
    "-   Each message satisfies the 2 conditions above (starts with 0x583a20 and is at most 18-byte long)\n",
    "-   There exists a relation of the form: $\\prod_i m_i = \\prod_j m_j$ among them, for example: $m_1m_2 = m_3m_4m_5$"
   ]
  },
  {
   "cell_type": "markdown",
   "metadata": {
    "slideshow": {
     "slide_type": "fragment"
    }
   },
   "source": [
    "If we could do that, we can then ask the server to encrypt the messages and obtain $\\prod_i \\text{encrypt}(m_i) - \\prod_j \\text{encrypt}(m_j)$, which is a multiple of the modulus. Applying the GCD algorithm to those multiples of $n$ should give us $n$."
   ]
  },
  {
   "cell_type": "markdown",
   "metadata": {
    "slideshow": {
     "slide_type": "subslide"
    }
   },
   "source": [
    "Observe that `0x[583a20]0100 * 0x[583a20]02 == 0x[583a20]01 * 0x[583a20]0200` (both equal to `0x[583a20]01 * 0x[583a20]02 * 256`), we can now recover $n$ easily:"
   ]
  },
  {
   "cell_type": "code",
   "execution_count": 9,
   "metadata": {
    "slideshow": {
     "slide_type": "fragment"
    }
   },
   "outputs": [
    {
     "name": "stdout",
     "output_type": "stream",
     "text": [
      "n = 28152737628466294873353447700677616804377761540447615032304834412268931104665382061141878570495440888771518997616518312198719994551237036466480942443879131169765243306374805214525362072592889691405243268672638788064054189918713974963485194898322382615752287071631796323864338560758158133372985410715951157\n"
     ]
    }
   ],
   "source": [
    "from socket import create_connection\n",
    "s = create_connection((\"localhost\", 5555l))\n",
    "f = s.makefile('r')\n",
    "enc_flag = int(f.readline().split()[-1], 16)\n",
    "\n",
    "def encrypt(msg):\n",
    "    assert len(msg) <= 18 and msg[:3] == 'X: '\n",
    "    s.sendall(msg[3:].encode('hex') +'\\n')\n",
    "    return int(f.readline().split()[-1], 16)\n",
    "\n",
    "x = encrypt('X: x')\n",
    "y = encrypt('X: y')\n",
    "z = encrypt('X: z')\n",
    "\n",
    "x0 = encrypt('X: x\\x00')\n",
    "y0 = encrypt('X: y\\x00')\n",
    "z0 = encrypt('X: z\\x00')\n",
    "\n",
    "multiples = [x*y0 - x0*y, x*z0 - x0*z, y*z0 - y0*z]\n",
    "n = reduce(GCD, multiples, 0)\n",
    "print 'n =', n"
   ]
  },
  {
   "cell_type": "markdown",
   "metadata": {
    "slideshow": {
     "slide_type": "subslide"
    }
   },
   "source": [
    "Now, to decrypt the flag, we need the private exponent $d$, which can be obtained by:\n",
    "1.  factoring $n = pq$ and taking the inverse of $e$ mod $\\phi(n)$, or\n",
    "2.  solving discrete logarithm modulo $n$."
   ]
  },
  {
   "cell_type": "markdown",
   "metadata": {
    "slideshow": {
     "slide_type": "fragment"
    }
   },
   "source": [
    "Since we don't know $e$ and how the author of the challenge generates $n$, <2> should be the way to go. This is only possible when $phi(n)$ is composed of small primes. Although it's a little bit guessing, the key idea is: **If $\\phi(n)$ is not smooth, the challenge can NOT be solved!**"
   ]
  },
  {
   "cell_type": "markdown",
   "metadata": {
    "slideshow": {
     "slide_type": "fragment"
    }
   },
   "source": [
    "During the contest, _pwnPHOfun_ team members didn't realize that and failed to make any progress."
   ]
  },
  {
   "cell_type": "markdown",
   "metadata": {
    "slideshow": {
     "slide_type": "subslide"
    }
   },
   "source": [
    "Knowing that $\\phi(n)$ is smooth, $n$ can be easily factored with Pollard's p-1 algorithm:"
   ]
  },
  {
   "cell_type": "code",
   "execution_count": 10,
   "metadata": {
    "slideshow": {
     "slide_type": "fragment"
    }
   },
   "outputs": [
    {
     "name": "stdout",
     "output_type": "stream",
     "text": [
      "p = 531268630871904928125236420930762796930566248599562838123179520115291463168597060453850582450268863522872788705521479922595212649079603574353380342938159\n",
      "q = 52991530070696473563320564293242344753975698734819856541454993888990555556689500359127445576561403828332510518908254263289997022658687697289264351266523\n"
     ]
    }
   ],
   "source": [
    "a = 2\n",
    "pi = 2\n",
    "B = 100000\n",
    "done = False\n",
    "while True:\n",
    "    for _ in range(RR(log(B, pi)) + 1):\n",
    "        a = power_mod(a, pi, n)\n",
    "        p = GCD(a-1, n)\n",
    "        if p > 1:\n",
    "            q = n/p\n",
    "            done = True\n",
    "            break\n",
    "    pi = next_prime(pi)\n",
    "    if done or pi > B:\n",
    "        break\n",
    "\n",
    "if done:\n",
    "    print 'p =', p\n",
    "    print 'q =', q"
   ]
  },
  {
   "cell_type": "markdown",
   "metadata": {
    "slideshow": {
     "slide_type": "subslide"
    }
   },
   "source": [
    "Check that $p-1$ and $q-1$ are both smooth:"
   ]
  },
  {
   "cell_type": "code",
   "execution_count": 11,
   "metadata": {
    "slideshow": {
     "slide_type": "fragment"
    }
   },
   "outputs": [
    {
     "name": "stdout",
     "output_type": "stream",
     "text": [
      "p-1 = 2 * 269 * 1013 * 1997 * 2293 * 5477 * 6521 * 8521 * 9029 * 13729 * 15511 * 16333 * 18119 * 19963 * 24329 * 25589 * 26561 * 37889 * 38231 * 38557 * 38851 * 47881 * 49477 * 49547 * 49549 * 59009 * 63149 * 64067 * 66733 * 67807 * 70139 * 76543 * 78277 * 85621 * 85991 * 88289 \n",
      "\n",
      "q-1 = 2 * 12157 * 13649 * 16633 * 21821 * 26863 * 28591 * 30703 * 35449 * 37159 * 52553 * 53527 * 55381 * 56963 * 59743 * 63311 * 66533 * 70067 * 71971 * 74527 * 77471 * 78919 * 80803 * 81173 * 82633 * 85531 * 87251 * 88589 * 89443 * 92243 * 95911 * 97651 * 99689\n"
     ]
    }
   ],
   "source": [
    "print 'p-1 =', factor(p-1), '\\n'\n",
    "print 'q-1 =', factor(q-1)"
   ]
  },
  {
   "cell_type": "markdown",
   "metadata": {
    "slideshow": {
     "slide_type": "subslide"
    }
   },
   "source": [
    "Solve the discrete logarithm problem to obtain $d$:"
   ]
  },
  {
   "cell_type": "code",
   "execution_count": 12,
   "metadata": {
    "slideshow": {
     "slide_type": "fragment"
    }
   },
   "outputs": [
    {
     "name": "stdout",
     "output_type": "stream",
     "text": [
      "2748764453029468715490471865512981104503568334538179947907460033180834741032686038914076807893036256348167409898773991268845429440917707803028762271222653474558811675645699768997645383556243231432537314294182698391886429863445585266694138147720853168418911122241669203982108182211754679102390434551295510\n"
     ]
    }
   ],
   "source": [
    "from Crypto.Util.number import long_to_bytes, bytes_to_long\n",
    "Zn = Zmod(n)\n",
    "\n",
    "order_x = order_from_multiple(Zn(x), (p-1)*(q-1), operation='*')\n",
    "d0 = discrete_log(Zn(bytes_to_long('X: x')), Zn(x), ord=order_x)\n",
    "print d0"
   ]
  },
  {
   "cell_type": "markdown",
   "metadata": {
    "slideshow": {
     "slide_type": "subslide"
    }
   },
   "source": [
    "Now, $d$ is of the form: $d_0 + k.\\text{order}(x); k \\in \\mathbb{Z}$. It's time to decrypt the flag:"
   ]
  },
  {
   "cell_type": "code",
   "execution_count": 13,
   "metadata": {
    "slideshow": {
     "slide_type": "fragment"
    }
   },
   "outputs": [
    {
     "name": "stdout",
     "output_type": "stream",
     "text": [
      "X: �m\u0007e[�ʃz\r",
      "�\u001c",
      "E69Tܹd\u0006����m7pF\u0001]����3�x:\u000b",
      "�N�V�ۙ�^��\u0010�^�\n",
      "��\u001bX7%�W\u0015�hitcon{test_flag}\n"
     ]
    }
   ],
   "source": [
    "i = 0\n",
    "while True:\n",
    "    tmp = long_to_bytes(pow(enc_flag, d0 + i*order_x, n))\n",
    "    if tmp[:3] == 'X: ':\n",
    "        print tmp\n",
    "        break  \n",
    "    i += 1"
   ]
  },
  {
   "cell_type": "markdown",
   "metadata": {
    "slideshow": {
     "slide_type": "slide"
    }
   },
   "source": [
    "## 4. Not so hard RSA\n",
    "\n",
    "-   Solves: _6_\n",
    "-   Points: _371_\n",
    "-   Status: _Done (during contest)_\n",
    "-   Tags: _RSA_, _LLL_"
   ]
  },
  {
   "cell_type": "markdown",
   "metadata": {
    "slideshow": {
     "slide_type": "slide"
    }
   },
   "source": [
    "### 4.1. Challenge summary"
   ]
  },
  {
   "cell_type": "markdown",
   "metadata": {
    "slideshow": {
     "slide_type": "fragment"
    }
   },
   "source": [
    "10 RSA public keys $(n_i, e_i)$, each $n_i$ is 1024-bit long, are given. They all share the same 465-bit private exponent $d$: $de_i = k_i\\phi(n_i) + 1$ for $i = 0...9$. We need to recover $d$ to decrypt the flag."
   ]
  },
  {
   "cell_type": "markdown",
   "metadata": {
    "slideshow": {
     "slide_type": "slide"
    }
   },
   "source": [
    "### 4.2. Solution"
   ]
  },
  {
   "cell_type": "markdown",
   "metadata": {
    "slideshow": {
     "slide_type": "fragment"
    }
   },
   "source": [
    "To solve this challenge, we can model it as a Shortest vector problem in lattice. Currently we have:"
   ]
  },
  {
   "cell_type": "markdown",
   "metadata": {
    "slideshow": {
     "slide_type": "fragment"
    }
   },
   "source": [
    "$$\n",
    "\\begin{cases}\n",
    "de_0 - k_0n_0 = k_0(-p_0 - q_0 + 1) + 1 \\\\\n",
    "de_1 - k_1n_1 = k_1(-p_1 - q_1 + 1) + 1 \\\\\n",
    "... \\\\\n",
    "de_9 - k_9n_9 = k_9(-p_9 - q_9 + 1) + 1 \\\\\n",
    "d.1 = d\n",
    "\\end{cases}\n",
    "$$"
   ]
  },
  {
   "cell_type": "markdown",
   "metadata": {
    "slideshow": {
     "slide_type": "subslide"
    }
   },
   "source": [
    "Which can be expressed as a vector equation:\n",
    "$$\n",
    "d   \\begin{bmatrix} e_0  \\\\ e_1  \\\\ ... \\\\ e_9  \\\\ 1 \\end{bmatrix} \\; + \\;\n",
    "k_0 \\begin{bmatrix} -n_0 \\\\ 0    \\\\ ... \\\\ 0    \\\\ 0 \\end{bmatrix} \\; + \\;\n",
    "k_1 \\begin{bmatrix} 0    \\\\ -n_1 \\\\ ... \\\\ 0    \\\\ 0 \\end{bmatrix} \\; + \\;\n",
    "... \\; + \\;\n",
    "k_9 \\begin{bmatrix} 0    \\\\ 0    \\\\ ... \\\\ -n_9 \\\\ 0 \\end{bmatrix} \\; = \\;\n",
    "\\begin{bmatrix} k_0(-p_0 - q_0 + 1) + 1 \\\\ k_1(-p_1 - q_1 + 1) + 1 \\\\ ... \\\\ k_9(-p_9 - q_9 + 1) + 1 \\\\ d \\\\ \\end{bmatrix}\n",
    "$$"
   ]
  },
  {
   "cell_type": "markdown",
   "metadata": {
    "slideshow": {
     "slide_type": "subslide"
    }
   },
   "source": [
    "Perform some testing on self-generated data:"
   ]
  },
  {
   "cell_type": "code",
   "execution_count": 14,
   "metadata": {
    "slideshow": {
     "slide_type": "fragment"
    }
   },
   "outputs": [
    {
     "name": "stdout",
     "output_type": "stream",
     "text": [
      "13099367240257886562683326258692783040851233923346570701030399385907024803830424710521768422217691215186634189023257737622427698309844818963\n",
      "13099367240257886562683326258692783040851233923346570701030399385907024803830424710521768422217691215186634189023257737622427698309844818963\n"
     ]
    }
   ],
   "source": [
    "from Crypto.Util.number import getPrime\n",
    "d_nbits = 463l\n",
    "nsamples = 10\n",
    "d = getPrime(d_nbits)\n",
    "\n",
    "ns, es = [], []\n",
    "for _ in range(nsamples):\n",
    "    p, q = [getPrime(512l) for _ in range(2)]\n",
    "    ns.append(p*q)\n",
    "    es.append(inverse_mod(d, (p-1)*(q-1)))\n",
    "\n",
    "A = [es + [2^512]]\n",
    "for i in range(nsamples):\n",
    "    v = [0] * (nsamples+1)\n",
    "    v[i] = -ns[i] \n",
    "    A.append(v)\n",
    "\n",
    "print abs(matrix(ZZ, A).LLL()[0][-1]/2^512)\n",
    "print d"
   ]
  },
  {
   "cell_type": "markdown",
   "metadata": {
    "slideshow": {
     "slide_type": "subslide"
    }
   },
   "source": [
    "After some trials and errors, we can see that LLL works quite well when `d_nbits <= 463`. For `d_nbits == 465`, it need more samples to successfully recover `d`. In this situation, we should try to brute-force a few bits of `d`. For example, we let `d = dx*B + dy` for `B=2^460`, brute-force `dx` and let LLL find `dy`:"
   ]
  },
  {
   "cell_type": "markdown",
   "metadata": {
    "slideshow": {
     "slide_type": "fragment"
    }
   },
   "source": [
    "$$\n",
    "d_y \\begin{bmatrix} e_0  \\\\ e_1  \\\\ ... \\\\ e_9  \\\\ 1 \\end{bmatrix} \\; + \\;\n",
    "k_0 \\begin{bmatrix} -n_0 \\\\ 0    \\\\ ... \\\\ 0    \\\\ 0 \\end{bmatrix} \\; + \\;\n",
    "k_1 \\begin{bmatrix} 0    \\\\ -n_1 \\\\ ... \\\\ 0    \\\\ 0 \\end{bmatrix} \\; + \\;\n",
    "... \\; + \\;\n",
    "k_9 \\begin{bmatrix} 0    \\\\ 0    \\\\ ... \\\\ -n_9 \\\\ 0 \\end{bmatrix} \\; = \\;\n",
    "\\begin{bmatrix} -d_xBe_0 \\\\ -d_xBe_1 \\\\ ... \\\\ -d_xBe_9 \\\\ 0   \\\\ \\end{bmatrix} \\; + \\;\n",
    "\\begin{bmatrix} k_0(-p_0 - q_0 + 1) + 1 \\\\ k_1(-p_1 - q_1 + 1) + 1 \\\\ ... \\\\ k_9(-p_9 - q_9 + 1) + 1 \\\\ d_y \\\\ \\end{bmatrix}\n",
    "$$"
   ]
  },
  {
   "cell_type": "markdown",
   "metadata": {
    "slideshow": {
     "slide_type": "subslide"
    }
   },
   "source": [
    "Again, test this on self-generated data:"
   ]
  },
  {
   "cell_type": "code",
   "execution_count": 15,
   "metadata": {
    "slideshow": {
     "slide_type": "fragment"
    }
   },
   "outputs": [
    {
     "name": "stdout",
     "output_type": "stream",
     "text": [
      "759564132885693916644098080888827304532477423782808819649552228016508667384537972026077144767082609436299706920855192782016751996208027\n",
      "759564132885693916644098080888827304532477423782808819649552228016508667384537972026077144767082609436299706920855192782016751996208027\n"
     ]
    }
   ],
   "source": [
    "from cvp import solve_cvp2\n",
    "d_nbits = 465l; nsamples = 10; bf_bits = 13\n",
    "B = 2^(d_nbits - bf_bits)\n",
    "d = getPrime(d_nbits)\n",
    "dx, dy = d // B, d % B\n",
    "\n",
    "ns, es = [], []\n",
    "for _ in range(nsamples):\n",
    "    p, q = [getPrime(512l) for _ in range(2)]\n",
    "    ns.append(p*q)\n",
    "    es.append(inverse_mod(d, (p-1)*(q-1)))\n",
    "enc2 = power_mod(2, es[0], ns[0])\n",
    "    \n",
    "min_dy, max_dy = 0, B\n",
    "min_d, max_d = dx*B + min_dy, dx*B + max_dy\n",
    "min_k, max_k = 0, max_d\n",
    "min_p, max_p = 2^511, 2^512\n",
    "min_delta, max_delta = min_k*2*min_p, max_k*2*max_p\n",
    "    \n",
    "A = [es + [1]]\n",
    "for i in range(nsamples):\n",
    "    v = [0] * (nsamples+1)\n",
    "    v[i] = -ns[i]\n",
    "    A.append(v)\n",
    "t = [-dx*(B*e) - (max_delta+min_delta)/2 for e in es] + [(max_dy+min_dy)/2]\n",
    "    \n",
    "print solve_cvp2(matrix(A), vector(t), [1/(max_delta-min_delta)]*nsamples + [1/(max_dy-min_dy)])[-1]\n",
    "print dy"
   ]
  },
  {
   "cell_type": "markdown",
   "metadata": {
    "slideshow": {
     "slide_type": "subslide"
    }
   },
   "source": [
    "Now, work on real data:"
   ]
  },
  {
   "cell_type": "code",
   "execution_count": 16,
   "metadata": {
    "slideshow": {
     "slide_type": "fragment"
    }
   },
   "outputs": [
    {
     "name": "stdout",
     "output_type": "stream",
     "text": [
      "Real data imported!\n"
     ]
    }
   ],
   "source": [
    "with open('output') as f:\n",
    "    d_nbits = eval(f.readline())\n",
    "    necs = [eval(f.readline()) for _ in range(10)]\n",
    "    ns, es, cs = [[x[i] for x in necs] for i in range(3)]\n",
    "\n",
    "enc2 = power_mod(2, es[0], ns[0])\n",
    "print 'Real data imported!'"
   ]
  },
  {
   "cell_type": "code",
   "execution_count": 17,
   "metadata": {
    "slideshow": {
     "slide_type": "subslide"
    }
   },
   "outputs": [
    {
     "name": "stdout",
     "output_type": "stream",
     "text": [
      "0b1000000000000\n",
      "0b1000000000001\n",
      "0b1000000000010\n",
      "0b1000000000011\n",
      "0b1000000000100\n",
      "0b1000000000101\n",
      "0b1000000000110\n",
      "0b1000000000111\n",
      "0b1000000001000\n",
      "0b1000000001001\n",
      "0b1000000001010\n",
      "0b1000000001011\n",
      "0b1000000001100\n",
      "0b1000000001101\n",
      "0b1000000001110\n",
      "0b1000000001111\n",
      "0b1000000010000\n",
      "0b1000000010001\n"
     ]
    },
    {
     "ename": "KeyboardInterrupt",
     "evalue": "",
     "output_type": "error",
     "traceback": [
      "\u001b[0;31m---------------------------------------------------------------------------\u001b[0m",
      "\u001b[0;31mKeyboardInterrupt\u001b[0m                         Traceback (most recent call last)",
      "\u001b[0;32m<ipython-input-17-a68ffb688202>\u001b[0m in \u001b[0;36m<module>\u001b[0;34m()\u001b[0m\n\u001b[1;32m     14\u001b[0m     \u001b[0mt\u001b[0m \u001b[0;34m=\u001b[0m \u001b[0;34m[\u001b[0m\u001b[0;34m-\u001b[0m\u001b[0mdx\u001b[0m\u001b[0;34m*\u001b[0m\u001b[0;34m(\u001b[0m\u001b[0mB\u001b[0m\u001b[0;34m*\u001b[0m\u001b[0me\u001b[0m\u001b[0;34m)\u001b[0m \u001b[0;34m-\u001b[0m \u001b[0;34m(\u001b[0m\u001b[0mmax_delta\u001b[0m\u001b[0;34m+\u001b[0m\u001b[0mmin_delta\u001b[0m\u001b[0;34m)\u001b[0m\u001b[0;34m/\u001b[0m\u001b[0mInteger\u001b[0m\u001b[0;34m(\u001b[0m\u001b[0;36m2\u001b[0m\u001b[0;34m)\u001b[0m \u001b[0;32mfor\u001b[0m \u001b[0me\u001b[0m \u001b[0;32min\u001b[0m \u001b[0mes\u001b[0m\u001b[0;34m]\u001b[0m \u001b[0;34m+\u001b[0m \u001b[0;34m[\u001b[0m\u001b[0;34m(\u001b[0m\u001b[0mmax_dy\u001b[0m\u001b[0;34m+\u001b[0m\u001b[0mmin_dy\u001b[0m\u001b[0;34m)\u001b[0m\u001b[0;34m/\u001b[0m\u001b[0mInteger\u001b[0m\u001b[0;34m(\u001b[0m\u001b[0;36m2\u001b[0m\u001b[0;34m)\u001b[0m\u001b[0;34m]\u001b[0m\u001b[0;34m\u001b[0m\u001b[0;34m\u001b[0m\u001b[0m\n\u001b[1;32m     15\u001b[0m \u001b[0;34m\u001b[0m\u001b[0m\n\u001b[0;32m---> 16\u001b[0;31m     \u001b[0mdy\u001b[0m \u001b[0;34m=\u001b[0m \u001b[0msolve_cvp2\u001b[0m\u001b[0;34m(\u001b[0m\u001b[0mmatrix\u001b[0m\u001b[0;34m(\u001b[0m\u001b[0mA\u001b[0m\u001b[0;34m)\u001b[0m\u001b[0;34m,\u001b[0m \u001b[0mvector\u001b[0m\u001b[0;34m(\u001b[0m\u001b[0mt\u001b[0m\u001b[0;34m)\u001b[0m\u001b[0;34m,\u001b[0m \u001b[0;34m[\u001b[0m\u001b[0mInteger\u001b[0m\u001b[0;34m(\u001b[0m\u001b[0;36m2\u001b[0m\u001b[0;34m)\u001b[0m\u001b[0;34m/\u001b[0m\u001b[0;34m(\u001b[0m\u001b[0mmax_delta\u001b[0m\u001b[0;34m-\u001b[0m\u001b[0mmin_delta\u001b[0m\u001b[0;34m)\u001b[0m\u001b[0;34m]\u001b[0m\u001b[0;34m*\u001b[0m\u001b[0mnsamples\u001b[0m \u001b[0;34m+\u001b[0m \u001b[0;34m[\u001b[0m\u001b[0mInteger\u001b[0m\u001b[0;34m(\u001b[0m\u001b[0;36m2\u001b[0m\u001b[0;34m)\u001b[0m\u001b[0;34m/\u001b[0m\u001b[0;34m(\u001b[0m\u001b[0mmax_dy\u001b[0m\u001b[0;34m-\u001b[0m\u001b[0mmin_dy\u001b[0m\u001b[0;34m)\u001b[0m\u001b[0;34m]\u001b[0m\u001b[0;34m)\u001b[0m\u001b[0;34m[\u001b[0m\u001b[0;34m-\u001b[0m\u001b[0mInteger\u001b[0m\u001b[0;34m(\u001b[0m\u001b[0;36m1\u001b[0m\u001b[0;34m)\u001b[0m\u001b[0;34m]\u001b[0m\u001b[0;34m\u001b[0m\u001b[0;34m\u001b[0m\u001b[0m\n\u001b[0m\u001b[1;32m     17\u001b[0m     \u001b[0md\u001b[0m \u001b[0;34m=\u001b[0m \u001b[0mdx\u001b[0m\u001b[0;34m*\u001b[0m\u001b[0mB\u001b[0m \u001b[0;34m+\u001b[0m \u001b[0mdy\u001b[0m\u001b[0;34m\u001b[0m\u001b[0;34m\u001b[0m\u001b[0m\n\u001b[1;32m     18\u001b[0m     \u001b[0;32mif\u001b[0m \u001b[0mpow\u001b[0m\u001b[0;34m(\u001b[0m\u001b[0menc2\u001b[0m\u001b[0;34m,\u001b[0m \u001b[0md\u001b[0m\u001b[0;34m,\u001b[0m \u001b[0mns\u001b[0m\u001b[0;34m[\u001b[0m\u001b[0mInteger\u001b[0m\u001b[0;34m(\u001b[0m\u001b[0;36m0\u001b[0m\u001b[0;34m)\u001b[0m\u001b[0;34m]\u001b[0m\u001b[0;34m)\u001b[0m \u001b[0;34m==\u001b[0m \u001b[0mInteger\u001b[0m\u001b[0;34m(\u001b[0m\u001b[0;36m2\u001b[0m\u001b[0;34m)\u001b[0m\u001b[0;34m:\u001b[0m\u001b[0;34m\u001b[0m\u001b[0;34m\u001b[0m\u001b[0m\n",
      "\u001b[0;32m/home/lap13027/HITCON Crpyto writeup/cvp.pyc\u001b[0m in \u001b[0;36msolve_cvp2\u001b[0;34m(B, t, scale_factors, verbose)\u001b[0m\n\u001b[1;32m     61\u001b[0m \u001b[0;34m\u001b[0m\u001b[0m\n\u001b[1;32m     62\u001b[0m     \u001b[0mscale_matrix\u001b[0m \u001b[0;34m=\u001b[0m \u001b[0mdiagonal_matrix\u001b[0m\u001b[0;34m(\u001b[0m\u001b[0mscale_factors\u001b[0m\u001b[0;34m)\u001b[0m\u001b[0;34m\u001b[0m\u001b[0;34m\u001b[0m\u001b[0m\n\u001b[0;32m---> 63\u001b[0;31m     \u001b[0;32mreturn\u001b[0m \u001b[0msolve_cvp\u001b[0m\u001b[0;34m(\u001b[0m\u001b[0mB\u001b[0m\u001b[0;34m*\u001b[0m\u001b[0mscale_matrix\u001b[0m\u001b[0;34m,\u001b[0m \u001b[0mt\u001b[0m\u001b[0;34m*\u001b[0m\u001b[0mscale_matrix\u001b[0m\u001b[0;34m,\u001b[0m \u001b[0mverbose\u001b[0m\u001b[0;34m)\u001b[0m \u001b[0;34m*\u001b[0m \u001b[0mscale_matrix\u001b[0m\u001b[0;34m**\u001b[0m\u001b[0;34m-\u001b[0m\u001b[0;36m1\u001b[0m\u001b[0;34m\u001b[0m\u001b[0;34m\u001b[0m\u001b[0m\n\u001b[0m",
      "\u001b[0;32m/home/lap13027/HITCON Crpyto writeup/cvp.pyc\u001b[0m in \u001b[0;36msolve_cvp\u001b[0;34m(B, t, verbose)\u001b[0m\n\u001b[1;32m     15\u001b[0m     \"\"\"\n\u001b[1;32m     16\u001b[0m     \u001b[0;31m#  perform vector projecting using the Gram-Schmidt process\u001b[0m\u001b[0;34m\u001b[0m\u001b[0;34m\u001b[0m\u001b[0;34m\u001b[0m\u001b[0m\n\u001b[0;32m---> 17\u001b[0;31m     \u001b[0mt_\u001b[0m \u001b[0;34m=\u001b[0m \u001b[0mt\u001b[0m \u001b[0;34m-\u001b[0m \u001b[0mB\u001b[0m\u001b[0;34m.\u001b[0m\u001b[0mstack\u001b[0m\u001b[0;34m(\u001b[0m\u001b[0mt\u001b[0m\u001b[0;34m)\u001b[0m\u001b[0;34m.\u001b[0m\u001b[0mgram_schmidt\u001b[0m\u001b[0;34m(\u001b[0m\u001b[0;34m)\u001b[0m\u001b[0;34m[\u001b[0m\u001b[0;36m0\u001b[0m\u001b[0;34m]\u001b[0m\u001b[0;34m.\u001b[0m\u001b[0mrow\u001b[0m\u001b[0;34m(\u001b[0m\u001b[0;34m-\u001b[0m\u001b[0;36m1\u001b[0m\u001b[0;34m)\u001b[0m\u001b[0;34m\u001b[0m\u001b[0;34m\u001b[0m\u001b[0m\n\u001b[0m\u001b[1;32m     18\u001b[0m     \u001b[0;32mif\u001b[0m \u001b[0mverbose\u001b[0m\u001b[0;34m:\u001b[0m\u001b[0;34m\u001b[0m\u001b[0;34m\u001b[0m\u001b[0m\n\u001b[1;32m     19\u001b[0m         \u001b[0;32mprint\u001b[0m \u001b[0;34m\"Target vector projection:\"\u001b[0m\u001b[0;34m\u001b[0m\u001b[0;34m\u001b[0m\u001b[0m\n",
      "\u001b[0;32msage/matrix/matrix2.pyx\u001b[0m in \u001b[0;36msage.matrix.matrix2.Matrix.gram_schmidt (build/cythonized/sage/matrix/matrix2.c:75150)\u001b[0;34m()\u001b[0m\n",
      "\u001b[0;32msage/matrix/matrix2.pyx\u001b[0m in \u001b[0;36msage.matrix.matrix2.Matrix._gram_schmidt_noscale (build/cythonized/sage/matrix/matrix2.c:73967)\u001b[0;34m()\u001b[0m\n",
      "\u001b[0;32msage/modules/free_module_element.pyx\u001b[0m in \u001b[0;36msage.modules.free_module_element.FreeModuleElement.hermitian_inner_product (build/cythonized/sage/modules/free_module_element.c:25085)\u001b[0;34m()\u001b[0m\n",
      "\u001b[0;32msage/modules/free_module_element.pyx\u001b[0m in \u001b[0;36msage.modules.free_module_element.FreeModuleElement.conjugate (build/cythonized/sage/modules/free_module_element.c:24008)\u001b[0;34m()\u001b[0m\n",
      "\u001b[0;32msage/modules/free_module_element.pyx\u001b[0m in \u001b[0;36msage.modules.free_module_element.vector (build/cythonized/sage/modules/free_module_element.c:5982)\u001b[0;34m()\u001b[0m\n",
      "\u001b[0;32msage/modules/free_module_element.pyx\u001b[0m in \u001b[0;36msage.modules.free_module_element.prepare (build/cythonized/sage/modules/free_module_element.c:6566)\u001b[0;34m()\u001b[0m\n",
      "\u001b[0;32m/usr/lib/python2.7/dist-packages/sage/structure/sequence.pyc\u001b[0m in \u001b[0;36mSequence\u001b[0;34m(x, universe, check, immutable, cr, cr_str, use_sage_types)\u001b[0m\n\u001b[1;32m     86\u001b[0m \u001b[0;31m#from mutability import Mutability #we cannot inherit from Mutability and list at the same time\u001b[0m\u001b[0;34m\u001b[0m\u001b[0;34m\u001b[0m\u001b[0;34m\u001b[0m\u001b[0m\n\u001b[1;32m     87\u001b[0m \u001b[0;34m\u001b[0m\u001b[0m\n\u001b[0;32m---> 88\u001b[0;31m \u001b[0;32mdef\u001b[0m \u001b[0mSequence\u001b[0m\u001b[0;34m(\u001b[0m\u001b[0mx\u001b[0m\u001b[0;34m,\u001b[0m \u001b[0muniverse\u001b[0m\u001b[0;34m=\u001b[0m\u001b[0mNone\u001b[0m\u001b[0;34m,\u001b[0m \u001b[0mcheck\u001b[0m\u001b[0;34m=\u001b[0m\u001b[0mTrue\u001b[0m\u001b[0;34m,\u001b[0m \u001b[0mimmutable\u001b[0m\u001b[0;34m=\u001b[0m\u001b[0mFalse\u001b[0m\u001b[0;34m,\u001b[0m \u001b[0mcr\u001b[0m\u001b[0;34m=\u001b[0m\u001b[0mFalse\u001b[0m\u001b[0;34m,\u001b[0m \u001b[0mcr_str\u001b[0m\u001b[0;34m=\u001b[0m\u001b[0mNone\u001b[0m\u001b[0;34m,\u001b[0m \u001b[0muse_sage_types\u001b[0m\u001b[0;34m=\u001b[0m\u001b[0mFalse\u001b[0m\u001b[0;34m)\u001b[0m\u001b[0;34m:\u001b[0m\u001b[0;34m\u001b[0m\u001b[0;34m\u001b[0m\u001b[0m\n\u001b[0m\u001b[1;32m     89\u001b[0m     \"\"\"\n\u001b[1;32m     90\u001b[0m     \u001b[0mA\u001b[0m \u001b[0mmutable\u001b[0m \u001b[0mlist\u001b[0m \u001b[0mof\u001b[0m \u001b[0melements\u001b[0m \u001b[0;32mwith\u001b[0m \u001b[0ma\u001b[0m \u001b[0mcommon\u001b[0m \u001b[0mguaranteed\u001b[0m \u001b[0muniverse\u001b[0m\u001b[0;34m,\u001b[0m\u001b[0;34m\u001b[0m\u001b[0;34m\u001b[0m\u001b[0m\n",
      "\u001b[0;32msrc/cysignals/signals.pyx\u001b[0m in \u001b[0;36mcysignals.signals.python_check_interrupt (build/pari/src/cysignals/signals.c:2724)\u001b[0;34m()\u001b[0m\n",
      "\u001b[0;32msrc/cysignals/signals.pyx\u001b[0m in \u001b[0;36mcysignals.signals.sig_raise_exception (build/pari/src/cysignals/signals.c:1331)\u001b[0;34m()\u001b[0m\n",
      "\u001b[0;31mKeyboardInterrupt\u001b[0m: "
     ]
    }
   ],
   "source": [
    "for dx in range(2^(bf_bits-1), 2^(bf_bits)):\n",
    "    print bin(dx)\n",
    "    min_dy, max_dy = 0, B\n",
    "    min_d, max_d = dx*B + min_dy, dx*B + max_dy\n",
    "    min_k, max_k = 0, max_d\n",
    "    min_p, max_p = 2^511, 2^512\n",
    "    min_delta, max_delta = min_k*2*min_p, max_k*2*max_p\n",
    "\n",
    "    A = [es + [1]]\n",
    "    for i in range(nsamples):\n",
    "        v = [0] * (nsamples+1)\n",
    "        v[i] = -ns[i]\n",
    "        A.append(v)\n",
    "    t = [-dx*(B*e) - (max_delta+min_delta)/2 for e in es] + [(max_dy+min_dy)/2]\n",
    "\n",
    "    dy = solve_cvp2(matrix(A), vector(t), [2/(max_delta-min_delta)]*nsamples + [2/(max_dy-min_dy)])[-1]\n",
    "    d = dx*B + dy\n",
    "    if pow(enc2, d, ns[0]) == 2:\n",
    "        print d\n",
    "        break"
   ]
  },
  {
   "cell_type": "markdown",
   "metadata": {
    "slideshow": {
     "slide_type": "subslide"
    }
   },
   "source": [
    "After a few minutes..."
   ]
  },
  {
   "cell_type": "markdown",
   "metadata": {
    "slideshow": {
     "slide_type": "fragment"
    }
   },
   "source": [
    "<center><img src='3-2.png' style='width: 200%;'></center>"
   ]
  },
  {
   "cell_type": "markdown",
   "metadata": {
    "slideshow": {
     "slide_type": "subslide"
    }
   },
   "source": [
    "Now, let's decrypt the flag and finish the challenge:"
   ]
  },
  {
   "cell_type": "code",
   "execution_count": 18,
   "metadata": {
    "slideshow": {
     "slide_type": "fragment"
    }
   },
   "outputs": [
    {
     "name": "stdout",
     "output_type": "stream",
     "text": [
      "hitcon{recover_everything_by_amazing_LLL_algorithm!!}\n",
      "\u001c",
      "}w\u0016\u001b�Hv��X��xH�Z'��o���W\u0016\u0015��\u001f�G����\u001b���\n"
     ]
    }
   ],
   "source": [
    "from Crypto.Util.number import long_to_bytes\n",
    "d = 52734116413990333859776618028885273976613159615407987318262228643225868562829470128730568170502025104920857931843837285163945541735508099991\n",
    "print long_to_bytes(pow(int(cs[0],16), d, ns[0]))"
   ]
  },
  {
   "cell_type": "markdown",
   "metadata": {
    "slideshow": {
     "slide_type": "slide"
    }
   },
   "source": [
    "## 5. Randomly select a cat\n",
    "\n",
    "-   Solves: _3_\n",
    "-   Points: _371_\n",
    "-   Status: _Done (after contest)_\n",
    "-   Tags: _RSA_, _LLL_, _small e_, _signing oracle_"
   ]
  },
  {
   "cell_type": "markdown",
   "metadata": {
    "slideshow": {
     "slide_type": "slide"
    }
   },
   "source": [
    "### 5.1. Challenge summary"
   ]
  },
  {
   "cell_type": "markdown",
   "metadata": {
    "slideshow": {
     "slide_type": "fragment"
    }
   },
   "source": [
    "For each connection, the server generates a 2048-bit RSA public key $(n, e=3)$. $n$ is not known to us."
   ]
  },
  {
   "cell_type": "markdown",
   "metadata": {
    "slideshow": {
     "slide_type": "subslide"
    }
   },
   "source": [
    "To sign a message $m$:"
   ]
  },
  {
   "cell_type": "markdown",
   "metadata": {
    "slideshow": {
     "slide_type": "fragment"
    }
   },
   "source": [
    "<center><img src='5-1.png' style='height: 70vh;'></center>"
   ]
  },
  {
   "cell_type": "markdown",
   "metadata": {
    "slideshow": {
     "slide_type": "subslide"
    }
   },
   "source": [
    "To encrypt a message m:"
   ]
  },
  {
   "cell_type": "markdown",
   "metadata": {
    "slideshow": {
     "slide_type": "fragment"
    }
   },
   "source": [
    "<center><img src='5-2.png'></center>"
   ]
  },
  {
   "cell_type": "markdown",
   "metadata": {
    "slideshow": {
     "slide_type": "subslide"
    }
   },
   "source": [
    "The server allows us to sign arbitrary messages, our task is to obtain a valid signature and the ciphertext of a message of the form `\"meow*\\n\" + anything`."
   ]
  },
  {
   "cell_type": "markdown",
   "metadata": {
    "slideshow": {
     "slide_type": "slide"
    }
   },
   "source": [
    "### 5.2. Solution"
   ]
  },
  {
   "cell_type": "markdown",
   "metadata": {
    "slideshow": {
     "slide_type": "fragment"
    }
   },
   "source": [
    "Let's try to recover $n$ first. Let $s$ be a signature received from the server for an arbitrary message, we have $s = m^d \\; \\text{mod} \\; n$ in which $m$ is of the form: `0x[fixed]00000000....000[compressed]`. Therefore, $c = s^3$ - `0x[fixed]00000000000000....000000` will be a good approximate to a multiple of $n$: $c = kn + \\epsilon$."
   ]
  },
  {
   "cell_type": "markdown",
   "metadata": {
    "slideshow": {
     "slide_type": "fragment"
    }
   },
   "source": [
    "With a lot samples of $c$, it's possible to recover $n$ using, again, LLL algorithm. For a pair ($c_i, c_j$), we have: $c_i = k_in + \\epsilon_i$, $c_j = k_j*n + \\epsilon_j$, then:"
   ]
  },
  {
   "cell_type": "markdown",
   "metadata": {
    "slideshow": {
     "slide_type": "fragment"
    }
   },
   "source": [
    "$$\n",
    "c_ik_j - c_jk_i = \\epsilon_ik_j - \\epsilon_jk_i\n",
    "$$"
   ]
  },
  {
   "cell_type": "markdown",
   "metadata": {
    "slideshow": {
     "slide_type": "subslide"
    }
   },
   "source": [
    "From that, we construct the following vector equation, which can be solved with LLL algorithm:"
   ]
  },
  {
   "cell_type": "markdown",
   "metadata": {
    "slideshow": {
     "slide_type": "fragment"
    }
   },
   "source": [
    "$$\n",
    "k_0 \\begin{bmatrix} 1    \\\\ c_1  \\\\ c_2  \\\\ ... \\end{bmatrix} \\; + \\;\n",
    "k_1 \\begin{bmatrix} 0    \\\\ -c_0 \\\\ 0    \\\\ ... \\end{bmatrix} \\; + \\;\n",
    "k_2 \\begin{bmatrix} 0    \\\\ 0    \\\\ -c_0 \\\\ ... \\end{bmatrix} \\; + \\;\n",
    "... \\; = \\;\n",
    "\\begin{bmatrix} k_0 \\\\ k_0\\epsilon_1 - k_1\\epsilon_0 \\\\ k_0\\epsilon_2 - k_2\\epsilon_0\\\\ ...\\end{bmatrix}\n",
    "$$"
   ]
  },
  {
   "cell_type": "markdown",
   "metadata": {
    "slideshow": {
     "slide_type": "subslide"
    }
   },
   "source": [
    "Now, let's collect some signatures from the server:"
   ]
  },
  {
   "cell_type": "code",
   "execution_count": 19,
   "metadata": {
    "slideshow": {
     "slide_type": "fragment"
    }
   },
   "outputs": [
    {
     "name": "stdout",
     "output_type": "stream",
     "text": [
      "OK!\n"
     ]
    }
   ],
   "source": [
    "from Crypto.Util.number import bytes_to_long, long_to_bytes\n",
    "from socket import create_connection\n",
    "_s = create_connection(('localhost', 5556l))\n",
    "_f = _s.makefile('r')\n",
    "\n",
    "def get_sig(m):\n",
    "    _f.readline()\n",
    "    _s.sendall('meow~\\n')\n",
    "    _f.readline()\n",
    "    _s.sendall(m +'\\n')\n",
    "    return eval(_f.readline())\n",
    "\n",
    "FIXED = \"\\xCA\\xFE\\x12\\x04\"\n",
    "PAD_OF_NULL = FIXED.ljust(255, '\\x00')\n",
    "\n",
    "nsamples = 20\n",
    "Cs = [get_sig(str(i))^3 - bytes_to_long(PAD_OF_NULL) for _ in range(nsamples)]\n",
    "print 'OK!'"
   ]
  },
  {
   "cell_type": "markdown",
   "metadata": {
    "slideshow": {
     "slide_type": "subslide"
    }
   },
   "source": [
    "Recover $n$ with LLL algorithm:"
   ]
  },
  {
   "cell_type": "code",
   "execution_count": 20,
   "metadata": {
    "slideshow": {
     "slide_type": "fragment"
    }
   },
   "outputs": [
    {
     "name": "stdout",
     "output_type": "stream",
     "text": [
      "n = 26847544434668989774778912221335020354834663459123684471818532161674819851672627903855261920171959627805592800347280963830247260988743125256121328161834985146896156013199498269109946780406687322225209471558950181408560064911979755968357024588255018801202988618435470837096236486189752905975348238933558122183663091030800896818952282203831697878262249619357710771987737162455694492710787444129848805695653565519639390641351825168861918617625108349973767847827476397179228777039667658522576430788214290704432357265703715128970071912268205369249687973776454575171621071694436396354363844996699409100640863400212489102773\n"
     ]
    }
   ],
   "source": [
    "A = [[1] + Cs[1:]]\n",
    "for i in range(1,20):\n",
    "    v = [0]*20\n",
    "    v[i] = -Cs[0]\n",
    "    A.append(v)\n",
    "\n",
    "k0 = abs(matrix(A).LLL()[0][0])\n",
    "n = Cs[0]//k0\n",
    "print 'n =', n"
   ]
  },
  {
   "cell_type": "markdown",
   "metadata": {
    "slideshow": {
     "slide_type": "subslide"
    }
   },
   "source": [
    "Now, since we know $n$ and $e$, we can encrypt any message we want. However, we still need to forge a valid signature for a message of the desired format, and here's the trick:"
   ]
  },
  {
   "cell_type": "markdown",
   "metadata": {
    "slideshow": {
     "slide_type": "fragment"
    }
   },
   "source": [
    "We don't need to find for an $s$ such that $s^3 \\; \\text{mod} \\; n =$ `0x[fixed]0000000...00[compressed]`. `0x[fixed][compressed][junk]` is still acceptable and decompress to the same JSON object as the former!"
   ]
  },
  {
   "cell_type": "markdown",
   "metadata": {
    "slideshow": {
     "slide_type": "subslide"
    }
   },
   "source": [
    "Since, $e = 3$ is small, it's possible that we can find a small $s$ such that $s^3$ (without mod $n$) is of the form `0x[fixed][compressed][junk]`."
   ]
  },
  {
   "cell_type": "markdown",
   "metadata": {
    "slideshow": {
     "slide_type": "fragment"
    }
   },
   "source": [
    "<center><img src='5-3.png'></center>"
   ]
  },
  {
   "cell_type": "markdown",
   "metadata": {
    "slideshow": {
     "slide_type": "fragment"
    }
   },
   "source": [
    "When the length of `[fixed][compressed]` is about 1/3 of `[fixed][compressed][junk]`, $s$ can be found easily by taking the cube root of `0x[fixed][compressed]0000000000...00`."
   ]
  },
  {
   "cell_type": "markdown",
   "metadata": {
    "slideshow": {
     "slide_type": "subslide"
    }
   },
   "source": [
    "While the total length is 255 bytes, `[fixed]` is 4 bytes, it's required that the length of `[compressed]` is around or below 80 ~ 81 bytes. Unfortunately, normal Python Zlib compression can only achieve 87 ~ 88 bytes for the type of JSON string we're currently working with. However, there's an algorithm called _zopfli_ which is very good at minimizing the size of data after compressed:"
   ]
  },
  {
   "cell_type": "code",
   "execution_count": 21,
   "metadata": {
    "slideshow": {
     "slide_type": "fragment"
    }
   },
   "outputs": [
    {
     "name": "stdout",
     "output_type": "stream",
     "text": [
      "Message: 'meow*\\n348240'\n",
      "Hash value: 111111110534911002116186458850090478486505830236380720697077991762214365037668\n",
      "Length after compressed: 80\n"
     ]
    }
   ],
   "source": [
    "import hashlib\n",
    "from zopfli.zlib import compress\n",
    "\n",
    "for i in range(10000000):\n",
    "    msg = 'meow*\\n' + str(i)\n",
    "    hval = int(hashlib.sha256(msg).hexdigest(), 16)\n",
    "    if '11111111' in str(hval):\n",
    "        print 'Message:', repr(msg)\n",
    "        print 'Hash value:', hval\n",
    "        break\n",
    "\n",
    "s = '{\"nonce\":\"11111111\",\"hash\":' + str(hval) + '}'\n",
    "compressed_data = compress(s)\n",
    "print 'Length after compressed:', len(compressed_data)"
   ]
  },
  {
   "cell_type": "markdown",
   "metadata": {
    "slideshow": {
     "slide_type": "subslide"
    }
   },
   "source": [
    "Looks good! Now, let's forge the signature for the message we have found:"
   ]
  },
  {
   "cell_type": "code",
   "execution_count": 22,
   "metadata": {
    "slideshow": {
     "slide_type": "fragment"
    }
   },
   "outputs": [
    {
     "name": "stdout",
     "output_type": "stream",
     "text": [
      "True\n"
     ]
    }
   ],
   "source": [
    "t = ZZ(bytes_to_long((FIXED + compressed_data).ljust(255, '\\x00')))\n",
    "s = (t.nth_root(3, truncate_mode=True)[0]+1)\n",
    "sig = long_to_bytes(s)\n",
    "print long_to_bytes(s^3).startswith(FIXED + compressed_data)"
   ]
  },
  {
   "cell_type": "markdown",
   "metadata": {
    "slideshow": {
     "slide_type": "subslide"
    }
   },
   "source": [
    "It's time to finish the challenge:"
   ]
  },
  {
   "cell_type": "code",
   "execution_count": 23,
   "metadata": {
    "slideshow": {
     "slide_type": "fragment"
    }
   },
   "outputs": [
    {
     "name": "stdout",
     "output_type": "stream",
     "text": [
      "meow meow meow?\n",
      "#!/usr/bin/env ruby\n",
      "# encoding: ASCII-8BIT\n",
      "\n",
      "require 'base64'\n",
      "require 'digest'\n",
      "require 'json'\n",
      "require 'openssl'\n",
      "require 'securerandom'\n",
      "require 'zlib'\n",
      "\n",
      "Dir.chdir(File.dirname(__FILE__))\n",
      "\n",
      "SIZE = 1024\n",
      "L = SIZE / 4 - 1\n",
      "CAFE = \"\\xCA\\xFE\\x12\\x04\"\n",
      "\n",
      "class String\n",
      "  def enhex\n",
      "    self.unpack('H*')[0]\n",
      "  end\n",
      "end\n",
      "\n",
      "def gg(msg)\n",
      "  puts \"\\e[1;31mMEOW! #{msg}\\e[0m\"\n",
      "  exit 1\n",
      "end\n",
      "\n",
      "def gen_key\n",
      "  e = 3.to_bn\n",
      "  p = OpenSSL::BN::generate_prime(SIZE, false)\n",
      "  q = OpenSSL::BN::generate_prime(SIZE, false)\n",
      "  n = p * q\n",
      "  phi = (p - 1) * (q - 1)\n",
      "  d = e.mod_inverse(phi)\n",
      "  [e, d, n]\n",
      "end\n",
      "\n",
      "def H(m)\n",
      "  Digest::SHA256.hexdigest(m).to_i(16).to_bn\n",
      "end\n",
      "\n",
      "def unpad(s)\n",
      "  gg 'meow zzz' unless s.size == L && s[0, 4] == CAFE\n",
      "  s[4..-1].gsub(/^\\x00*/, '')\n",
      "end\n",
      "\n",
      "def pad(s)\n",
      "  zero = L - 4 - s.size\n",
      "  gg 'meooooooooooooooooow' unless zero >= 0\n",
      "  CAFE + \"\\x00\" * zero + s\n",
      "end\n",
      "\n",
      "def sign(m, d, n)\n",
      "  h = H(m)\n",
      "  nonce = SecureRandom.base64(6)\n",
      "  obj = {hash: h.to_i, nonce: nonce}\n",
      "  num = pad(Zlib.deflate(obj.to_json)).enhex.to_i(16).to_bn\n",
      "  gg 'meow??' if num >= n\n",
      "  num.mod_exp(d, n)\n",
      "rescue\n",
      "  gg 'meeeeeow'\n",
      "end\n",
      "\n",
      "def verify(m, sig, e, n)\n",
      "  num = sig.mod_exp(e, n)\n",
      "  obj = JSON[Zlib.inflate(unpad(num.to_s(2)))]\n",
      "  gg 'meow T_T' if obj['hash'] != H(m)\n",
      "  gg 'meowwww' unless obj['nonce'] && Base64::decode64(obj['nonce']).size == 6\n",
      "  true\n",
      "rescue\n",
      "  false\n",
      "end\n",
      "\n",
      "def decrypt(m, d, n)\n",
      "  gg 'meow :(' unless m >= 0 && m < n\n",
      "  c = m.mod_exp(d, n).to_s(2)\n",
      "  unpad(c)\n",
      "rescue\n",
      "  nil\n",
      "end\n",
      "\n",
      "FLAG = IO.read('flag')\n",
      "\n",
      "# CATS ARE TRUE COLOR!!!\n",
      "CATS = Dir.glob('cat/cat*')\n",
      "\n",
      "$stdout.sync = true\n",
      "\n",
      "def main\n",
      "  e, d, n = gen_key\n",
      "  loop do\n",
      "    puts 'meow?'\n",
      "    cmd = gets.strip\n",
      "    case cmd\n",
      "    when 'meow~'\n",
      "      puts 'meow~'\n",
      "      msg = gets.strip\n",
      "      gg 'meow :O' if msg.size > 128\n",
      "      gg 'meow?!' if msg.include?('meow')\n",
      "      puts sign(msg, d, n)\n",
      "    when 'meow!'\n",
      "      puts 'meow meow~'\n",
      "      admin_cmd = decrypt(gets.strip.to_i(16).to_bn, d, n)\n",
      "      gg 'meow?' if admin_cmd.nil?\n",
      "      case admin_cmd\n",
      "      when /^meow(.)$/\n",
      "        # meow? meow!\n",
      "        meow = $1\n",
      "        puts 'meow meow meow?'\n",
      "        sig = gets.strip.to_i(16).to_bn\n",
      "        if verify(admin_cmd, sig, e, n)\n",
      "          system(meow)\n",
      "        else\n",
      "          gg 'meow!?'\n",
      "        end\n",
      "      when 'meow'\n",
      "        puts IO.read(CATS.sample)\n",
      "      else\n",
      "        puts 'meow...!'\n",
      "      end\n",
      "    when 'meow.'\n",
      "      break\n",
      "    else\n",
      "      puts 'meow...?'\n",
      "    end\n",
      "  end\n",
      "end\n",
      "\n",
      "main\n",
      "hitcon{test_flag}\n",
      "meow?\n"
     ]
    },
    {
     "ename": "KeyboardInterrupt",
     "evalue": "",
     "output_type": "error",
     "traceback": [
      "\u001b[0;31m---------------------------------------------------------------------------\u001b[0m",
      "\u001b[0;31mKeyboardInterrupt\u001b[0m                         Traceback (most recent call last)",
      "\u001b[0;32m<ipython-input-23-08384ae27556>\u001b[0m in \u001b[0;36m<module>\u001b[0;34m()\u001b[0m\n\u001b[1;32m      7\u001b[0m \u001b[0m_s\u001b[0m\u001b[0;34m.\u001b[0m\u001b[0msendall\u001b[0m\u001b[0;34m(\u001b[0m\u001b[0msig\u001b[0m\u001b[0;34m.\u001b[0m\u001b[0mencode\u001b[0m\u001b[0;34m(\u001b[0m\u001b[0;34m'hex'\u001b[0m\u001b[0;34m)\u001b[0m \u001b[0;34m+\u001b[0m\u001b[0;34m'\\n'\u001b[0m\u001b[0;34m)\u001b[0m\u001b[0;34m\u001b[0m\u001b[0;34m\u001b[0m\u001b[0m\n\u001b[1;32m      8\u001b[0m \u001b[0;32mwhile\u001b[0m \u001b[0mTrue\u001b[0m\u001b[0;34m:\u001b[0m\u001b[0;34m\u001b[0m\u001b[0;34m\u001b[0m\u001b[0m\n\u001b[0;32m----> 9\u001b[0;31m     \u001b[0;32mprint\u001b[0m \u001b[0m_f\u001b[0m\u001b[0;34m.\u001b[0m\u001b[0mreadline\u001b[0m\u001b[0;34m(\u001b[0m\u001b[0;34m)\u001b[0m\u001b[0;34m,\u001b[0m\u001b[0;34m\u001b[0m\u001b[0;34m\u001b[0m\u001b[0m\n\u001b[0m",
      "\u001b[0;32m/usr/lib/python2.7/socket.pyc\u001b[0m in \u001b[0;36mreadline\u001b[0;34m(self, size)\u001b[0m\n\u001b[1;32m    449\u001b[0m             \u001b[0;32mwhile\u001b[0m \u001b[0mTrue\u001b[0m\u001b[0;34m:\u001b[0m\u001b[0;34m\u001b[0m\u001b[0;34m\u001b[0m\u001b[0m\n\u001b[1;32m    450\u001b[0m                 \u001b[0;32mtry\u001b[0m\u001b[0;34m:\u001b[0m\u001b[0;34m\u001b[0m\u001b[0;34m\u001b[0m\u001b[0m\n\u001b[0;32m--> 451\u001b[0;31m                     \u001b[0mdata\u001b[0m \u001b[0;34m=\u001b[0m \u001b[0mself\u001b[0m\u001b[0;34m.\u001b[0m\u001b[0m_sock\u001b[0m\u001b[0;34m.\u001b[0m\u001b[0mrecv\u001b[0m\u001b[0;34m(\u001b[0m\u001b[0mself\u001b[0m\u001b[0;34m.\u001b[0m\u001b[0m_rbufsize\u001b[0m\u001b[0;34m)\u001b[0m\u001b[0;34m\u001b[0m\u001b[0;34m\u001b[0m\u001b[0m\n\u001b[0m\u001b[1;32m    452\u001b[0m                 \u001b[0;32mexcept\u001b[0m \u001b[0merror\u001b[0m\u001b[0;34m,\u001b[0m \u001b[0me\u001b[0m\u001b[0;34m:\u001b[0m\u001b[0;34m\u001b[0m\u001b[0;34m\u001b[0m\u001b[0m\n\u001b[1;32m    453\u001b[0m                     \u001b[0;32mif\u001b[0m \u001b[0me\u001b[0m\u001b[0;34m.\u001b[0m\u001b[0margs\u001b[0m\u001b[0;34m[\u001b[0m\u001b[0;36m0\u001b[0m\u001b[0;34m]\u001b[0m \u001b[0;34m==\u001b[0m \u001b[0mEINTR\u001b[0m\u001b[0;34m:\u001b[0m\u001b[0;34m\u001b[0m\u001b[0;34m\u001b[0m\u001b[0m\n",
      "\u001b[0;32msrc/cysignals/signals.pyx\u001b[0m in \u001b[0;36mcysignals.signals.python_check_interrupt (build/pari/src/cysignals/signals.c:2724)\u001b[0;34m()\u001b[0m\n",
      "\u001b[0;32msrc/cysignals/signals.pyx\u001b[0m in \u001b[0;36mcysignals.signals.sig_raise_exception (build/pari/src/cysignals/signals.c:1331)\u001b[0;34m()\u001b[0m\n",
      "\u001b[0;31mKeyboardInterrupt\u001b[0m: "
     ]
    }
   ],
   "source": [
    "padded_message = FIXED + msg.rjust(255 - 4, '\\x00')\n",
    "ciphertext = long_to_bytes(bytes_to_long(padded_message)^3 % n)\n",
    "_s.sendall('meow!\\n')\n",
    "_f.readline()\n",
    "_s.sendall(ciphertext.encode('hex') + '\\n')\n",
    "_f.readline()\n",
    "_s.sendall(sig.encode('hex') +'\\n')\n",
    "while True:\n",
    "    print _f.readline(),"
   ]
  },
  {
   "cell_type": "markdown",
   "metadata": {
    "slideshow": {
     "slide_type": "slide"
    }
   },
   "source": [
    "# THANK YOU FOR YOUR ATTENTION"
   ]
  }
 ],
 "metadata": {
  "celltoolbar": "Slideshow",
  "kernelspec": {
   "display_name": "SageMath 8.1",
   "language": "python",
   "name": "sagemath"
  },
  "language_info": {
   "codemirror_mode": {
    "name": "ipython",
    "version": 2
   },
   "file_extension": ".py",
   "mimetype": "text/x-python",
   "name": "python",
   "nbconvert_exporter": "python",
   "pygments_lexer": "ipython2",
   "version": "2.7.15+"
  },
  "rise": {
   "overlay": "<div style=\"background-color:white; height:100vh;\"></div>"
  }
 },
 "nbformat": 4,
 "nbformat_minor": 2
}
